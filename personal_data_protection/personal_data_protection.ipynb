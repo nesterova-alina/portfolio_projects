{
 "cells": [
  {
   "cell_type": "markdown",
   "metadata": {
    "toc": true
   },
   "source": [
    "<h1>Содержание<span class=\"tocSkip\"></span></h1>\n",
    "<div class=\"toc\"><ul class=\"toc-item\"><li><span><a href=\"#Загрузка-данных\" data-toc-modified-id=\"Загрузка-данных-1\"><span class=\"toc-item-num\">1&nbsp;&nbsp;</span>Загрузка данных</a></span></li><li><span><a href=\"#Умножение-матриц\" data-toc-modified-id=\"Умножение-матриц-2\"><span class=\"toc-item-num\">2&nbsp;&nbsp;</span>Умножение матриц</a></span></li><li><span><a href=\"#Алгоритм-преобразования\" data-toc-modified-id=\"Алгоритм-преобразования-3\"><span class=\"toc-item-num\">3&nbsp;&nbsp;</span>Алгоритм преобразования</a></span></li><li><span><a href=\"#Проверка-алгоритма\" data-toc-modified-id=\"Проверка-алгоритма-4\"><span class=\"toc-item-num\">4&nbsp;&nbsp;</span>Проверка алгоритма</a></span></li><li><span><a href=\"#Выводы\" data-toc-modified-id=\"Выводы-5\"><span class=\"toc-item-num\">5&nbsp;&nbsp;</span>Выводы</a></span></li></ul></div>"
   ]
  },
  {
   "cell_type": "markdown",
   "metadata": {},
   "source": [
    "# Защита персональных данных клиентов"
   ]
  },
  {
   "cell_type": "markdown",
   "metadata": {},
   "source": [
    "В рамках проекта необходимо защитить данные клиентов страховой компании. \n",
    "\n",
    "**Цель проекта:** разработать такой метод преобразования данных, чтобы по ним было сложно восстановить персональную информацию.\n",
    "\n",
    "Нужно защитить данные, чтобы при преобразовании качество моделей машинного обучения не ухудшилось. Подбирать наилучшую модель не требуется.\n",
    "\n",
    "**Ход исследования:**\n",
    " * Шаг 1: Загрузка и подготовка данных\n",
    " * Шаг 2: Ответ на вопрос и его обоснование: Признаки умножают на обратимую матрицу. Изменится ли качество линейной регрессии? (Её можно обучить заново.)\n",
    " * Шаг 3: Предложение алгоритма преобразования данных\n",
    " * Шаг 4: Проверка алгоритма\n",
    " * Шаг 5: Выводы"
   ]
  },
  {
   "cell_type": "code",
   "execution_count": 1,
   "metadata": {},
   "outputs": [],
   "source": [
    "import pandas as pd\n",
    "import numpy as np\n",
    "import matplotlib.pyplot as plt\n",
    "import seaborn as sns\n",
    "\n",
    "from sklearn.preprocessing import StandardScaler\n",
    "from sklearn.model_selection import train_test_split\n",
    "from sklearn.linear_model import LinearRegression\n",
    "from sklearn.metrics import r2_score\n",
    "\n",
    "RANDOM_STATE = 12345\n",
    "\n",
    "import warnings\n",
    "warnings.simplefilter(\"ignore\", ResourceWarning)\n",
    "warnings.simplefilter(\"ignore\", FutureWarning)"
   ]
  },
  {
   "cell_type": "markdown",
   "metadata": {},
   "source": [
    "## Загрузка данных"
   ]
  },
  {
   "cell_type": "markdown",
   "metadata": {},
   "source": [
    "Для первичного ознакомления с данными выведем первые 5 строк таблицы, а также получим информацию о таблице с помощью метода `info()`."
   ]
  },
  {
   "cell_type": "code",
   "execution_count": 3,
   "metadata": {},
   "outputs": [
    {
     "name": "stdout",
     "output_type": "stream",
     "text": [
      "<class 'pandas.core.frame.DataFrame'>\n",
      "RangeIndex: 5000 entries, 0 to 4999\n",
      "Data columns (total 5 columns):\n",
      " #   Column             Non-Null Count  Dtype  \n",
      "---  ------             --------------  -----  \n",
      " 0   Пол                5000 non-null   int64  \n",
      " 1   Возраст            5000 non-null   float64\n",
      " 2   Зарплата           5000 non-null   float64\n",
      " 3   Члены семьи        5000 non-null   int64  \n",
      " 4   Страховые выплаты  5000 non-null   int64  \n",
      "dtypes: float64(2), int64(3)\n",
      "memory usage: 195.4 KB\n",
      "None\n"
     ]
    },
    {
     "data": {
      "text/html": [
       "<div>\n",
       "<style scoped>\n",
       "    .dataframe tbody tr th:only-of-type {\n",
       "        vertical-align: middle;\n",
       "    }\n",
       "\n",
       "    .dataframe tbody tr th {\n",
       "        vertical-align: top;\n",
       "    }\n",
       "\n",
       "    .dataframe thead th {\n",
       "        text-align: right;\n",
       "    }\n",
       "</style>\n",
       "<table border=\"1\" class=\"dataframe\">\n",
       "  <thead>\n",
       "    <tr style=\"text-align: right;\">\n",
       "      <th></th>\n",
       "      <th>Пол</th>\n",
       "      <th>Возраст</th>\n",
       "      <th>Зарплата</th>\n",
       "      <th>Члены семьи</th>\n",
       "      <th>Страховые выплаты</th>\n",
       "    </tr>\n",
       "  </thead>\n",
       "  <tbody>\n",
       "    <tr>\n",
       "      <th>0</th>\n",
       "      <td>1</td>\n",
       "      <td>41.0</td>\n",
       "      <td>49600.0</td>\n",
       "      <td>1</td>\n",
       "      <td>0</td>\n",
       "    </tr>\n",
       "    <tr>\n",
       "      <th>1</th>\n",
       "      <td>0</td>\n",
       "      <td>46.0</td>\n",
       "      <td>38000.0</td>\n",
       "      <td>1</td>\n",
       "      <td>1</td>\n",
       "    </tr>\n",
       "    <tr>\n",
       "      <th>2</th>\n",
       "      <td>0</td>\n",
       "      <td>29.0</td>\n",
       "      <td>21000.0</td>\n",
       "      <td>0</td>\n",
       "      <td>0</td>\n",
       "    </tr>\n",
       "    <tr>\n",
       "      <th>3</th>\n",
       "      <td>0</td>\n",
       "      <td>21.0</td>\n",
       "      <td>41700.0</td>\n",
       "      <td>2</td>\n",
       "      <td>0</td>\n",
       "    </tr>\n",
       "    <tr>\n",
       "      <th>4</th>\n",
       "      <td>1</td>\n",
       "      <td>28.0</td>\n",
       "      <td>26100.0</td>\n",
       "      <td>0</td>\n",
       "      <td>0</td>\n",
       "    </tr>\n",
       "  </tbody>\n",
       "</table>\n",
       "</div>"
      ],
      "text/plain": [
       "   Пол  Возраст  Зарплата  Члены семьи  Страховые выплаты\n",
       "0    1     41.0   49600.0            1                  0\n",
       "1    0     46.0   38000.0            1                  1\n",
       "2    0     29.0   21000.0            0                  0\n",
       "3    0     21.0   41700.0            2                  0\n",
       "4    1     28.0   26100.0            0                  0"
      ]
     },
     "execution_count": 3,
     "metadata": {},
     "output_type": "execute_result"
    }
   ],
   "source": [
    "print(df.info())\n",
    "df.head()"
   ]
  },
  {
   "cell_type": "markdown",
   "metadata": {},
   "source": [
    "Согласно документации к данным, в таблице содержатся:\n",
    "* **Признаки:** пол, возраст и зарплата застрахованного, количество членов его семьи.\n",
    "* **Целевой признак:** количество страховых выплат клиенту за последние 5 лет."
   ]
  },
  {
   "cell_type": "markdown",
   "metadata": {},
   "source": [
    "Проверим таблицу на наличие дубликатов и пропусков, выведем информацию о таблице методом `describe()`"
   ]
  },
  {
   "cell_type": "code",
   "execution_count": 4,
   "metadata": {},
   "outputs": [
    {
     "name": "stdout",
     "output_type": "stream",
     "text": [
      "NULL: 0\n",
      "Duplicates: 153\n",
      "               Пол      Возраст      Зарплата  Члены семьи  Страховые выплаты\n",
      "count  5000.000000  5000.000000   5000.000000  5000.000000        5000.000000\n",
      "mean      0.499000    30.952800  39916.360000     1.194200           0.148000\n",
      "std       0.500049     8.440807   9900.083569     1.091387           0.463183\n",
      "min       0.000000    18.000000   5300.000000     0.000000           0.000000\n",
      "25%       0.000000    24.000000  33300.000000     0.000000           0.000000\n",
      "50%       0.000000    30.000000  40200.000000     1.000000           0.000000\n",
      "75%       1.000000    37.000000  46600.000000     2.000000           0.000000\n",
      "max       1.000000    65.000000  79000.000000     6.000000           5.000000 \n",
      "\n"
     ]
    },
    {
     "data": {
      "image/png": "[encoded data removed]",
      "text/plain": [
       "<Figure size 432x288 with 6 Axes>"
      ]
     },
     "metadata": {},
     "output_type": "display_data"
    }
   ],
   "source": [
    "print('NULL:', df.isna().sum().sum())\n",
    "print('Duplicates:', df.duplicated().sum())\n",
    "print(df.describe(), '\\n')\n",
    "df.hist();"
   ]
  },
  {
   "cell_type": "markdown",
   "metadata": {},
   "source": [
    "Удалим имеющиеся дубликаты"
   ]
  },
  {
   "cell_type": "code",
   "execution_count": 5,
   "metadata": {},
   "outputs": [
    {
     "name": "stdout",
     "output_type": "stream",
     "text": [
      "0\n"
     ]
    }
   ],
   "source": [
    "df = df.drop_duplicates().reset_index(drop=True)\n",
    "print(df.duplicated().sum())"
   ]
  },
  {
   "cell_type": "markdown",
   "metadata": {},
   "source": [
    "Поскольку все данные в таблице целочисленны, приведём таблицу к типу `int`."
   ]
  },
  {
   "cell_type": "code",
   "execution_count": 6,
   "metadata": {},
   "outputs": [
    {
     "name": "stdout",
     "output_type": "stream",
     "text": [
      "<class 'pandas.core.frame.DataFrame'>\n",
      "RangeIndex: 4847 entries, 0 to 4846\n",
      "Data columns (total 5 columns):\n",
      " #   Column             Non-Null Count  Dtype\n",
      "---  ------             --------------  -----\n",
      " 0   Пол                4847 non-null   int64\n",
      " 1   Возраст            4847 non-null   int64\n",
      " 2   Зарплата           4847 non-null   int64\n",
      " 3   Члены семьи        4847 non-null   int64\n",
      " 4   Страховые выплаты  4847 non-null   int64\n",
      "dtypes: int64(5)\n",
      "memory usage: 189.5 KB\n"
     ]
    }
   ],
   "source": [
    "df = df.astype(int)\n",
    "df.info()"
   ]
  },
  {
   "cell_type": "markdown",
   "metadata": {},
   "source": [
    "Посмотрим на матрицу корреляций признаков:"
   ]
  },
  {
   "cell_type": "code",
   "execution_count": 7,
   "metadata": {
    "scrolled": false
   },
   "outputs": [
    {
     "name": "stdout",
     "output_type": "stream",
     "text": [
      "Определитель матрицы попарных корреляций признаков: 0.57\n"
     ]
    },
    {
     "data": {
      "image/png": "[encoded data removed]",
      "text/plain": [
       "<Figure size 576x432 with 2 Axes>"
      ]
     },
     "metadata": {},
     "output_type": "display_data"
    }
   ],
   "source": [
    "print('Определитель матрицы попарных корреляций признаков:', round(np.linalg.det(df.corr()), 2))\n",
    "\n",
    "\n",
    "plt.figure(figsize=(8,6))\n",
    "sns.heatmap(df.corr(), cmap=\"Blues\", annot=True)\n",
    "plt.title(\"Матрица попарных корреляций признаков\", fontsize=15)\n",
    "plt.show()"
   ]
  },
  {
   "cell_type": "markdown",
   "metadata": {},
   "source": [
    "Наблюдается высокий коэффициент корреляции между возрастом и целевым признаков - количеством страховых выплат, мультиколлинеарности обнаружено не было."
   ]
  },
  {
   "cell_type": "markdown",
   "metadata": {},
   "source": [
    "## Умножение матриц"
   ]
  },
  {
   "cell_type": "markdown",
   "metadata": {},
   "source": [
    "**Вопрос:** Признаки умножают на обратимую матрицу. Изменится ли качество линейной регрессии? \n",
    "\n",
    "**Ответ: не изменится** \n",
    "\n",
    "**Обоснование:** \n",
    "\n",
    "Обозначения:\n",
    "\n",
    "- $X$ — матрица признаков (нулевой столбец состоит из единиц)\n",
    "\n",
    "- $y$ — вектор целевого признака\n",
    "\n",
    "- $P$ — матрица, на которую умножаются признаки\n",
    "\n",
    "- $w$ — вектор весов линейной регрессии (нулевой элемент равен сдвигу)\n",
    "\n",
    "\n",
    "Предсказания:\n",
    "\n",
    "$$\n",
    "a = Xw\n",
    "$$\n",
    "\n",
    "Задача обучения:\n",
    "\n",
    "$$\n",
    "w = \\arg\\min_w MSE(Xw, y)\n",
    "$$\n",
    "\n",
    "Формула обучения:\n",
    "\n",
    "$$\n",
    "w = (X^T X)^{-1} X^T y\n",
    "$$\n",
    "\n",
    "Вспомогательные свойства:\n",
    "$$\n",
    "(AB)^{-1} = B^{-1}A^{-1}\n",
    "$$\n",
    "$$\n",
    "(AB)^T = B^{T}A^{T}\n",
    "$$\n",
    "\n",
    "Предсказания строятся следующим образом: \n",
    "\n",
    "$$\n",
    "a = Xw = X (X^T X)^{-1} X^T y\n",
    "$$\n",
    "\n",
    "Умножим признаки $X$ на обратимую матрицу $P$. Тогда:\n",
    "\n",
    "$$\n",
    "a_1 = XPw = XP ((XP)^T XP)^{-1} (XP)^T y\n",
    "$$\n",
    "\n",
    "Воспользуемся вспомогательными свойствами обращения и транспонирования произведения матриц и раскроем скобки: \n",
    "\n",
    "$$\n",
    "a_1 = XP (P^T X^T XP)^{-1} P^T X^T y = XP P^{-1} (P^T X^T X)^{-1} P^T X^T y = XP P^{-1} (X^T X)^{-1} (P^T)^{-1} P^T X^T y = X (X^T X)^{-1}  X^T y\n",
    "$$\n",
    "\n",
    "Таким образом, $a_1 = a$, следовательно, значение предсказания не меняется при умножении матрицы признаков на обратимую матрицу.\n",
    "\n"
   ]
  },
  {
   "cell_type": "markdown",
   "metadata": {},
   "source": [
    "## Алгоритм преобразования"
   ]
  },
  {
   "cell_type": "markdown",
   "metadata": {},
   "source": [
    "**Алгоритм**\n",
    "\n",
    "В качестве метода преобразования данных для защиты персональной информации можно воспользоваться умножением матрицы признаков на случайную обратимую квадратную матрицу.  \n",
    "Соответственно, необходимо:\n",
    "- случайным образом найти квадратную матрицу размерности $n*n$, где $n$ - количество признаков\n",
    "- убедиться в обратимости матрицы - проверить, не равен ли определитель матрицы нулю; если равен - подбирать другую матрицу случайным образом, пока определитель не станет отличным от нуля\n",
    "- умножить матрицу признаков на найденную случайную матрицу и обучить на преобразованных данных модель линейной регрессии"
   ]
  },
  {
   "cell_type": "markdown",
   "metadata": {},
   "source": [
    "**Обоснование**\n",
    "\n",
    "Умножение матрицы размером $m*n$ на матрицу $n*p$ даст матрицу $m*p$. Значит, умножение матрицы $m*n$ на матрицу $n*n$ даст, по-прежнему, матрицу $m*n$ - то есть размерность матрицы признаков не изменится.  \n",
    "Не изменится в данном случае и качество линейной регрессии - это уже доказано выше.  \n",
    "Для восстановления личной информации, то есть для обратного преобразования матрицы признаков, необходимо узнать обратную матрицу к нашей случайной матрице, что без знания самой случайной матрицы представляется невозможным или, по крайней мере, слишком ресурсозатратным."
   ]
  },
  {
   "cell_type": "markdown",
   "metadata": {},
   "source": [
    "## Проверка алгоритма"
   ]
  },
  {
   "cell_type": "markdown",
   "metadata": {},
   "source": [
    "Вывделим матрицу признаков и столбец целевого признака."
   ]
  },
  {
   "cell_type": "code",
   "execution_count": 8,
   "metadata": {},
   "outputs": [
    {
     "name": "stdout",
     "output_type": "stream",
     "text": [
      "(4847, 4)\n",
      "(4847,)\n"
     ]
    }
   ],
   "source": [
    "features = df.drop(['Страховые выплаты'], axis=1)\n",
    "target = df['Страховые выплаты']\n",
    "\n",
    "print(features.shape)\n",
    "print(target.shape)"
   ]
  },
  {
   "cell_type": "markdown",
   "metadata": {},
   "source": [
    "Напишем функцию `split_scale`, с помощью которой будем производить деление выборок на обучающую и валидационную, а также масштабирование признаков."
   ]
  },
  {
   "cell_type": "code",
   "execution_count": 9,
   "metadata": {},
   "outputs": [],
   "source": [
    "def split_scale(features, target):\n",
    "    \"\"\"\n",
    "    Функция принимает на вход таблицу признаков features и столбец целевого признака target, \n",
    "    и возвращает тренировочную и валидационную выборку для features и target в соотношении 75:25\n",
    "    \"\"\"\n",
    "    \n",
    "    # разделим выборку на две части: обучающую и тестовую\n",
    "    (features_train, features_valid, \n",
    "     target_train, target_valid) = train_test_split(features, \n",
    "                                                   target,\n",
    "                                                   test_size=.25,\n",
    "                                                   random_state=RANDOM_STATE)\n",
    "    scaler = StandardScaler()\n",
    "    scaler.fit(features_train)\n",
    "    features_train = scaler.transform(features_train)\n",
    "    features_valid = scaler.transform(features_valid)\n",
    "\n",
    "    return (features_train, \n",
    "            features_valid,\n",
    "            target_train, \n",
    "            target_valid)"
   ]
  },
  {
   "cell_type": "markdown",
   "metadata": {},
   "source": [
    "Создадим функцию `linear_regression`, с помощю которой будем обучать модель линейной регрессии и выполнять предсказания для валидационной выборки."
   ]
  },
  {
   "cell_type": "code",
   "execution_count": 10,
   "metadata": {},
   "outputs": [],
   "source": [
    "def linear_regression(features_train, features_valid, target_train, target_valid):\n",
    "    \"\"\"\n",
    "    Функция принимает на вход тренировочную и валидационную выборку, обучает модель линейной регрессии \n",
    "    и возвращает предсказания и зачение R2 для валидационной выборки\n",
    "    \"\"\"\n",
    "    model = LinearRegression()\n",
    "    model.fit(features_train, target_train)\n",
    "    predicted_valid = model.predict(features_valid)\n",
    "    predicted_valid = pd.Series(predicted_valid)\n",
    "    r2 = r2_score(target_valid, predicted_valid)\n",
    "    \n",
    "    \n",
    "    return (predicted_valid, r2)"
   ]
  },
  {
   "cell_type": "markdown",
   "metadata": {},
   "source": [
    "Создадим функцию для поиска случайной обратимой матрицы."
   ]
  },
  {
   "cell_type": "code",
   "execution_count": 11,
   "metadata": {},
   "outputs": [],
   "source": [
    "def rand_matrix(shape):\n",
    "    matrix = np.random.rand(shape, shape)\n",
    "    if np.linalg.det(matrix) != 0:\n",
    "        return matrix\n",
    "    else: matrix = rand_matrix(shape)"
   ]
  },
  {
   "cell_type": "markdown",
   "metadata": {},
   "source": [
    "С помощью функции создадим матрицу 4*4, удостовреимся, что она обратима."
   ]
  },
  {
   "cell_type": "code",
   "execution_count": 12,
   "metadata": {},
   "outputs": [
    {
     "name": "stdout",
     "output_type": "stream",
     "text": [
      "Исходная матрица:\n",
      "[[0.90179079 0.57485871 0.26199002 0.20587733]\n",
      " [0.723242   0.19623096 0.91097241 0.9994723 ]\n",
      " [0.14400466 0.97033553 0.68193359 0.37190471]\n",
      " [0.99439654 0.51006661 0.32917925 0.25941848]]\n",
      "\n",
      "Обратная матрица\n",
      "[[ -1.85295807  -0.23017464  -0.38494201   2.90918745]\n",
      " [  7.19322538   0.15942826   0.24552808  -6.67484904]\n",
      " [-19.49628264  -1.58606661   2.13296579  18.52532701]\n",
      " [ 17.69851867   2.58141235  -1.71375132 -17.67962583]]\n"
     ]
    }
   ],
   "source": [
    "matrix = rand_matrix(4)\n",
    "print('Исходная матрица:')\n",
    "print(matrix)\n",
    "print()\n",
    "print('Обратная матрица')\n",
    "print(np.linalg.inv(matrix))"
   ]
  },
  {
   "cell_type": "markdown",
   "metadata": {},
   "source": [
    "Преобразуем матрицу признаков: умножим её на найденную случайную матрицу."
   ]
  },
  {
   "cell_type": "code",
   "execution_count": 13,
   "metadata": {},
   "outputs": [
    {
     "name": "stdout",
     "output_type": "stream",
     "text": [
      "Исходная матрица признаков\n",
      "    Пол  Возраст  Зарплата  Члены семьи\n",
      "0    1       41     49600            1\n",
      "1    0       46     38000            1\n",
      "2    0       29     21000            0\n",
      "3    0       21     41700            2\n",
      "4    1       28     26100            0 \n",
      "\n",
      "Преобразованная матрица признаков\n",
      "              0             1             2             3\n",
      "0  7174.180345  48137.772596  33861.847269  18487.917500\n",
      "1  5506.440685  36882.286764  25955.710458  14178.614296\n",
      "2  3045.071920  20382.736791  14347.023661   7838.983702\n",
      "3  6022.171281  40468.132512  28456.419623  15529.934351\n",
      "4  3779.674245  25331.826613  17824.236005   9734.904151\n"
     ]
    }
   ],
   "source": [
    "features_transformed = features.dot(matrix)\n",
    "\n",
    "print('Исходная матрица признаков\\n', features.head(), '\\n')\n",
    "print('Преобразованная матрица признаков\\n', features_transformed.head())"
   ]
  },
  {
   "cell_type": "markdown",
   "metadata": {},
   "source": [
    "Обучим модель линейной регрессии на двух таблицах признаков."
   ]
  },
  {
   "cell_type": "code",
   "execution_count": 14,
   "metadata": {},
   "outputs": [
    {
     "name": "stdout",
     "output_type": "stream",
     "text": [
      "R2 модели линейной регрессии до преобразования признаков: 0.423077276158367\n"
     ]
    }
   ],
   "source": [
    "# обучение модели на исходных признаках\n",
    "(features_train, \n",
    " features_valid, \n",
    " target_train,\n",
    " target_valid) = split_scale(features, target)\n",
    "\n",
    "predicted_valid, r2 = linear_regression(features_train,\n",
    "                                             features_valid, \n",
    "                                             target_train,\n",
    "                                             target_valid)\n",
    "print('R2 модели линейной регрессии до преобразования признаков:', r2)"
   ]
  },
  {
   "cell_type": "code",
   "execution_count": 15,
   "metadata": {},
   "outputs": [
    {
     "name": "stdout",
     "output_type": "stream",
     "text": [
      "R2 модели линейной регрессии после преобразования признаков: 0.42307727615855184\n"
     ]
    }
   ],
   "source": [
    "# обучение модели на преобразованных признаках\n",
    "(features_train_transformed, \n",
    " features_valid_transformed, \n",
    " target_train_transformed,\n",
    " target_valid_transformed) = split_scale(features_transformed, target)\n",
    "\n",
    "predicted_valid_transformed, r2_transformed = linear_regression(features_train_transformed,\n",
    "                                             features_valid_transformed, \n",
    "                                             target_train_transformed,\n",
    "                                             target_valid_transformed)\n",
    "print('R2 модели линейной регрессии после преобразования признаков:', r2_transformed)"
   ]
  },
  {
   "cell_type": "code",
   "execution_count": 16,
   "metadata": {},
   "outputs": [
    {
     "name": "stdout",
     "output_type": "stream",
     "text": [
      "Разница между значениями R2 для двух методов: 1.8485213360008856e-13\n"
     ]
    }
   ],
   "source": [
    "print('Разница между значениями R2 для двух методов:', r2_transformed - r2)"
   ]
  },
  {
   "cell_type": "markdown",
   "metadata": {},
   "source": [
    "Итак, по метрике R2 видно, что если изменения в предсказаниях модели линейной регрессии при преобразовании принаков имеются, то они совершенно незначительны и обусловлены, скорее всего, процедурой масштабирования преобразованных признаков."
   ]
  },
  {
   "cell_type": "markdown",
   "metadata": {},
   "source": [
    "## Выводы"
   ]
  },
  {
   "cell_type": "markdown",
   "metadata": {},
   "source": [
    "В рамках проекта необходимо было разработать такой метод преобразования данных, чтобы по ним было сложно восстановить персональную информацию. Для осуществления посталвенной цели были выполнены следующие задачи:\n",
    "\n",
    "- данные были загружены и обработаны\n",
    "- отсутсвие изменений в предсказаниях модели линейной регрессии при умножении матрицы признаков на случайную обратимую матрицу было доказано теоретически\n",
    "- предложен, реализован и проверен алгоритм преобразования данных, с помощью метрики R2 было проверено, что качество линейной регрессии не меняется при преобразовании матрицы признаков."
   ]
  }
 ],
 "metadata": {
  "ExecuteTimeLog": [
   {
    "duration": 1992,
    "start_time": "2022-11-16T17:00:57.750Z"
   },
   {
    "duration": 92,
    "start_time": "2022-11-16T17:00:59.744Z"
   },
   {
    "duration": 25,
    "start_time": "2022-11-16T17:00:59.837Z"
   },
   {
    "duration": 537,
    "start_time": "2022-11-16T17:00:59.864Z"
   },
   {
    "duration": 10,
    "start_time": "2022-11-16T17:01:00.403Z"
   },
   {
    "duration": 36,
    "start_time": "2022-11-16T17:01:00.415Z"
   },
   {
    "duration": 60,
    "start_time": "2022-11-16T17:01:00.454Z"
   },
   {
    "duration": 41,
    "start_time": "2022-11-16T17:01:00.516Z"
   },
   {
    "duration": 35,
    "start_time": "2022-11-16T17:01:00.559Z"
   },
   {
    "duration": 32,
    "start_time": "2022-11-16T17:01:00.597Z"
   },
   {
    "duration": 12,
    "start_time": "2022-11-16T17:01:00.631Z"
   },
   {
    "duration": 40,
    "start_time": "2022-11-16T17:01:00.644Z"
   },
   {
    "duration": 100,
    "start_time": "2022-11-16T17:01:00.686Z"
   },
   {
    "duration": 12,
    "start_time": "2022-11-16T17:01:00.788Z"
   },
   {
    "duration": 7,
    "start_time": "2022-11-16T17:01:00.801Z"
   }
  ],
  "kernelspec": {
   "display_name": "Python 3",
   "language": "python",
   "name": "python3"
  },
  "language_info": {
   "codemirror_mode": {
    "name": "ipython",
    "version": 3
   },
   "file_extension": ".py",
   "mimetype": "text/x-python",
   "name": "python",
   "nbconvert_exporter": "python",
   "pygments_lexer": "ipython3",
   "version": "3.6.9"
  },
  "toc": {
   "base_numbering": 1,
   "nav_menu": {},
   "number_sections": true,
   "sideBar": true,
   "skip_h1_title": true,
   "title_cell": "Содержание",
   "title_sidebar": "Contents",
   "toc_cell": true,
   "toc_position": {},
   "toc_section_display": true,
   "toc_window_display": false
  }
 },
 "nbformat": 4,
 "nbformat_minor": 2
}
