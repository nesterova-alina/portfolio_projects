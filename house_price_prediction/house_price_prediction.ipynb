{
 "cells": [
  {
   "cell_type": "markdown",
   "id": "6258762a",
   "metadata": {
    "id": "GEqQaHzsZ_bA"
   },
   "source": [
    "# Прогнозирование стоимости жилья в жилом массиве\n",
    "\n",
    "**Цель проекта:** создать модель, предсказывающую медианную стоимость дома\n",
    "\n",
    "\n",
    "**Задачи проекта:** обучить модель линейной регрессии на данных о жилье в Калифорнии в 1990 году и сделать предсказания на тестовой выборке. Для оценки качества модели необходимо использовать метрики RMSE, MAE и R2.\n",
    "\n",
    "**Ход исследования:**\n",
    " * Шаг 1: Подготовка данных\n",
    " * Шаг 2: Обучение моделей\n",
    " * Шаг 3: Анализ результатов\n",
    " * Шаг 4: Выводы"
   ]
  },
  {
   "cell_type": "code",
   "execution_count": 1,
   "id": "2eb70265",
   "metadata": {},
   "outputs": [],
   "source": [
    "# импорт необходимых библиотек\n",
    "\n",
    "import pandas as pd \n",
    "import numpy as np\n",
    "\n",
    "import pyspark\n",
    "from pyspark.sql import SparkSession\n",
    "from pyspark.sql.types import *\n",
    "import pyspark.sql.functions as F\n",
    "\n",
    "from pyspark.ml.feature import StringIndexer, VectorAssembler, StandardScaler\n",
    "from pyspark.ml.regression import LinearRegression\n",
    "from pyspark.ml.regression import LinearRegressionSummary\n",
    "\n",
    "pyspark_version = pyspark.__version__\n",
    "if int(pyspark_version[:1]) == 3:\n",
    "    from pyspark.ml.feature import OneHotEncoder    \n",
    "elif int(pyspark_version[:1]) == 2:\n",
    "    from pyspark.ml.feature import OneHotEncodeEstimator\n",
    "        \n",
    "RANDOM_SEED = 2022\n",
    "\n",
    "pd.options.display.float_format = '{:,.3f}'.format\n",
    "\n",
    "import warnings\n",
    "warnings.simplefilter(\"ignore\", ResourceWarning)\n",
    "warnings.simplefilter(\"ignore\", FutureWarning)"
   ]
  },
  {
   "cell_type": "code",
   "execution_count": 2,
   "id": "77df0348",
   "metadata": {},
   "outputs": [
    {
     "name": "stderr",
     "output_type": "stream",
     "text": [
      "/home/alina/.local/lib/python3.6/site-packages/pyspark/context.py:238: FutureWarning: Python 3.6 support is deprecated in Spark 3.2.\n",
      "  FutureWarning\n"
     ]
    }
   ],
   "source": [
    "spark = SparkSession.builder \\\n",
    "                    .master(\"local\") \\\n",
    "                    .appName(\"EDA California Housing\") \\\n",
    "                    .getOrCreate()"
   ]
  },
  {
   "cell_type": "markdown",
   "id": "e541dd35",
   "metadata": {
    "id": "53871372"
   },
   "source": [
    "## Подготовка данных"
   ]
  },
  {
   "cell_type": "markdown",
   "id": "9048bd11",
   "metadata": {},
   "source": [
    "### Обзор данных"
   ]
  },
  {
   "cell_type": "markdown",
   "id": "25bd5935",
   "metadata": {},
   "source": [
    "Данные были собраны в рамках переписи населения в США. Каждая строка содержит агрегированную статистику о жилом массиве. Жилой массив — минимальная географическая единица с населением от 600 до 3000 человек в зависимости от штата. Одна строка в данных содержит статистику в среднем о 1425.5 обитателях жилого массива.\n",
    "\n",
    "Прочитаем файл с данными."
   ]
  },
  {
   "cell_type": "code",
   "execution_count": 4,
   "id": "5463bd89",
   "metadata": {},
   "outputs": [
    {
     "name": "stdout",
     "output_type": "stream",
     "text": [
      "root\n",
      " |-- longitude: double (nullable = true)\n",
      " |-- latitude: double (nullable = true)\n",
      " |-- housing_median_age: double (nullable = true)\n",
      " |-- total_rooms: double (nullable = true)\n",
      " |-- total_bedrooms: double (nullable = true)\n",
      " |-- population: double (nullable = true)\n",
      " |-- households: double (nullable = true)\n",
      " |-- median_income: double (nullable = true)\n",
      " |-- median_house_value: double (nullable = true)\n",
      " |-- ocean_proximity: string (nullable = true)\n",
      "\n"
     ]
    }
   ],
   "source": [
    "df_housing.printSchema()"
   ]
  },
  {
   "cell_type": "markdown",
   "id": "3d5eb4ca",
   "metadata": {},
   "source": [
    "Отдельно выведем типы данных столбцов таблицы, а также 10 первых строк."
   ]
  },
  {
   "cell_type": "code",
   "execution_count": 5,
   "id": "5df3a796",
   "metadata": {
    "scrolled": true
   },
   "outputs": [
    {
     "name": "stdout",
     "output_type": "stream",
     "text": [
      "               column    type\n",
      "0           longitude  double\n",
      "1            latitude  double\n",
      "2  housing_median_age  double\n",
      "3         total_rooms  double\n",
      "4      total_bedrooms  double\n",
      "5          population  double\n",
      "6          households  double\n",
      "7       median_income  double\n",
      "8  median_house_value  double\n",
      "9     ocean_proximity  string\n",
      "+---------+--------+------------------+-----------+--------------+----------+----------+-------------+------------------+---------------+\n",
      "|longitude|latitude|housing_median_age|total_rooms|total_bedrooms|population|households|median_income|median_house_value|ocean_proximity|\n",
      "+---------+--------+------------------+-----------+--------------+----------+----------+-------------+------------------+---------------+\n",
      "|  -118.24|   33.92|              40.0|     1772.0|         369.0|    1122.0|     324.0|       3.2768|           96100.0|      <1H OCEAN|\n",
      "|  -121.17|   38.76|              14.0|     2028.0|         255.0|     781.0|     251.0|       6.5322|          394000.0|         INLAND|\n",
      "|  -118.03|   33.81|              26.0|     3635.0|         567.0|    1779.0|     543.0|       5.7089|          237400.0|      <1H OCEAN|\n",
      "|  -119.84|   36.81|              18.0|     2789.0|         378.0|     937.0|     364.0|       7.7062|          188300.0|         INLAND|\n",
      "|  -122.42|   37.78|              19.0|     4065.0|        1645.0|    2079.0|    1470.0|       3.1462|          187500.0|       NEAR BAY|\n",
      "|   -119.2|   36.28|              22.0|     2295.0|         508.0|    1654.0|     478.0|        1.684|           65900.0|         INLAND|\n",
      "|  -118.32|   33.98|              44.0|     1448.0|         314.0|     861.0|     310.0|       2.2396|          108600.0|      <1H OCEAN|\n",
      "|  -118.41|    33.9|              39.0|     2311.0|         404.0|    1044.0|     380.0|        8.468|          472100.0|      <1H OCEAN|\n",
      "|  -121.03|   37.66|              31.0|      887.0|         217.0|     614.0|     199.0|       2.1528|           75500.0|         INLAND|\n",
      "|  -117.22|   34.54|               8.0|    12526.0|        2495.0|    6133.0|    2324.0|       2.9072|          119200.0|         INLAND|\n",
      "+---------+--------+------------------+-----------+--------------+----------+----------+-------------+------------------+---------------+\n",
      "only showing top 10 rows\n",
      "\n"
     ]
    }
   ],
   "source": [
    "# выведем названия колонок\n",
    "print(pd.DataFrame(df_housing.dtypes, columns=['column', 'type']).head(10))\n",
    "df_housing = df_housing.select(\"*\").orderBy(F.rand())\n",
    "\n",
    "# выведем первые 10 строк \n",
    "df_housing.show(10)"
   ]
  },
  {
   "cell_type": "markdown",
   "id": "b020021a",
   "metadata": {},
   "source": [
    "Согласно документации, в колонках датасета содержатся следующие данные:\n",
    "\n",
    "- `longitude` — широта;\n",
    "- `latitude` — долгота;\n",
    "- `housing_median_age` — медианный возраст жителей жилого массива;\n",
    "- `total_rooms` — общее количество комнат в домах жилого массива;\n",
    "- `total_bedrooms` — общее количество спален в домах жилого массива;\n",
    "- `population` — количество человек, которые проживают в жилом массиве;\n",
    "- `households` — количество домовладений в жилом массиве;\n",
    "- `median_income` — медианный доход жителей жилого массива;\n",
    "- `median_house_value` — медианная стоимость дома в жилом массиве;\n",
    "- `ocean_proximity` — близость к океану.\n",
    "\n",
    "В большинстве колонок хранятся количественные данные, кроме одной — `ocean_proximity`. Она хранит категориальные значения."
   ]
  },
  {
   "cell_type": "code",
   "execution_count": 6,
   "id": "8b40fe00",
   "metadata": {},
   "outputs": [
    {
     "data": {
      "text/html": [
       "<div>\n",
       "<style scoped>\n",
       "    .dataframe tbody tr th:only-of-type {\n",
       "        vertical-align: middle;\n",
       "    }\n",
       "\n",
       "    .dataframe tbody tr th {\n",
       "        vertical-align: top;\n",
       "    }\n",
       "\n",
       "    .dataframe thead th {\n",
       "        text-align: right;\n",
       "    }\n",
       "</style>\n",
       "<table border=\"1\" class=\"dataframe\">\n",
       "  <thead>\n",
       "    <tr style=\"text-align: right;\">\n",
       "      <th></th>\n",
       "      <th>summary</th>\n",
       "      <th>longitude</th>\n",
       "      <th>latitude</th>\n",
       "      <th>housing_median_age</th>\n",
       "      <th>total_rooms</th>\n",
       "      <th>total_bedrooms</th>\n",
       "      <th>population</th>\n",
       "      <th>households</th>\n",
       "      <th>median_income</th>\n",
       "      <th>median_house_value</th>\n",
       "      <th>ocean_proximity</th>\n",
       "    </tr>\n",
       "  </thead>\n",
       "  <tbody>\n",
       "    <tr>\n",
       "      <th>0</th>\n",
       "      <td>count</td>\n",
       "      <td>20640</td>\n",
       "      <td>20640</td>\n",
       "      <td>20640</td>\n",
       "      <td>20640</td>\n",
       "      <td>20433</td>\n",
       "      <td>20640</td>\n",
       "      <td>20640</td>\n",
       "      <td>20640</td>\n",
       "      <td>20640</td>\n",
       "      <td>20640</td>\n",
       "    </tr>\n",
       "    <tr>\n",
       "      <th>1</th>\n",
       "      <td>mean</td>\n",
       "      <td>-119.56970445736383</td>\n",
       "      <td>35.63186143410876</td>\n",
       "      <td>28.639486434108527</td>\n",
       "      <td>2635.7630813953488</td>\n",
       "      <td>537.8705525375618</td>\n",
       "      <td>1425.4767441860465</td>\n",
       "      <td>499.5396802325581</td>\n",
       "      <td>3.8706710029070055</td>\n",
       "      <td>206855.81690891474</td>\n",
       "      <td>None</td>\n",
       "    </tr>\n",
       "    <tr>\n",
       "      <th>2</th>\n",
       "      <td>stddev</td>\n",
       "      <td>2.0035317235025913</td>\n",
       "      <td>2.135952397457118</td>\n",
       "      <td>12.585557612111625</td>\n",
       "      <td>2181.615251582787</td>\n",
       "      <td>421.38507007403194</td>\n",
       "      <td>1132.4621217653396</td>\n",
       "      <td>382.3297528316114</td>\n",
       "      <td>1.899821717945267</td>\n",
       "      <td>115395.615874414</td>\n",
       "      <td>None</td>\n",
       "    </tr>\n",
       "    <tr>\n",
       "      <th>3</th>\n",
       "      <td>min</td>\n",
       "      <td>-124.35</td>\n",
       "      <td>32.54</td>\n",
       "      <td>1.0</td>\n",
       "      <td>2.0</td>\n",
       "      <td>1.0</td>\n",
       "      <td>3.0</td>\n",
       "      <td>1.0</td>\n",
       "      <td>0.4999</td>\n",
       "      <td>14999.0</td>\n",
       "      <td>&lt;1H OCEAN</td>\n",
       "    </tr>\n",
       "    <tr>\n",
       "      <th>4</th>\n",
       "      <td>max</td>\n",
       "      <td>-114.31</td>\n",
       "      <td>41.95</td>\n",
       "      <td>52.0</td>\n",
       "      <td>39320.0</td>\n",
       "      <td>6445.0</td>\n",
       "      <td>35682.0</td>\n",
       "      <td>6082.0</td>\n",
       "      <td>15.0001</td>\n",
       "      <td>500001.0</td>\n",
       "      <td>NEAR OCEAN</td>\n",
       "    </tr>\n",
       "  </tbody>\n",
       "</table>\n",
       "</div>"
      ],
      "text/plain": [
       "  summary            longitude           latitude  housing_median_age  \\\n",
       "0   count                20640              20640               20640   \n",
       "1    mean  -119.56970445736383  35.63186143410876  28.639486434108527   \n",
       "2  stddev   2.0035317235025913  2.135952397457118  12.585557612111625   \n",
       "3     min              -124.35              32.54                 1.0   \n",
       "4     max              -114.31              41.95                52.0   \n",
       "\n",
       "          total_rooms      total_bedrooms          population  \\\n",
       "0               20640               20433               20640   \n",
       "1  2635.7630813953488   537.8705525375618  1425.4767441860465   \n",
       "2   2181.615251582787  421.38507007403194  1132.4621217653396   \n",
       "3                 2.0                 1.0                 3.0   \n",
       "4             39320.0              6445.0             35682.0   \n",
       "\n",
       "          households       median_income  median_house_value ocean_proximity  \n",
       "0              20640               20640               20640           20640  \n",
       "1  499.5396802325581  3.8706710029070055  206855.81690891474            None  \n",
       "2  382.3297528316114   1.899821717945267    115395.615874414            None  \n",
       "3                1.0              0.4999             14999.0       <1H OCEAN  \n",
       "4             6082.0             15.0001            500001.0      NEAR OCEAN  "
      ]
     },
     "execution_count": 6,
     "metadata": {},
     "output_type": "execute_result"
    }
   ],
   "source": [
    "# выведем базовые статистики\n",
    "df_housing.describe().toPandas()"
   ]
  },
  {
   "cell_type": "markdown",
   "id": "48b9b4cd",
   "metadata": {},
   "source": [
    "### Обработка пропусков"
   ]
  },
  {
   "cell_type": "code",
   "execution_count": 6,
   "id": "72e9e969",
   "metadata": {},
   "outputs": [
    {
     "name": "stdout",
     "output_type": "stream",
     "text": [
      "longitude 0\n",
      "latitude 0\n",
      "housing_median_age 0\n",
      "total_rooms 0\n",
      "total_bedrooms 207\n",
      "population 0\n",
      "households 0\n",
      "median_income 0\n",
      "median_house_value 0\n",
      "ocean_proximity 0\n"
     ]
    }
   ],
   "source": [
    "# выведем количество пропущенных значений в каждой колонке\n",
    "columns = df_housing.columns\n",
    "\n",
    "for column in columns:\n",
    "    check_col = F.col(column).isNull()\n",
    "    print(column, df_housing.filter(check_col).count())"
   ]
  },
  {
   "cell_type": "markdown",
   "id": "a6677492",
   "metadata": {},
   "source": [
    "Пропуски содержатся только в колонке `total_bedrooms` и составляют около 1% данных в этой колонке. Заменим пропуски на медианное значение в этом столбце."
   ]
  },
  {
   "cell_type": "code",
   "execution_count": 7,
   "id": "4cea594d",
   "metadata": {},
   "outputs": [
    {
     "data": {
      "text/plain": [
       "435"
      ]
     },
     "execution_count": 7,
     "metadata": {},
     "output_type": "execute_result"
    }
   ],
   "source": [
    "# выведем медианное значение столбца 'total_bedrooms'\n",
    "median_bedrooms_value = int(df_housing.approxQuantile('total_bedrooms', [0.5], 0)[0])\n",
    "median_bedrooms_value"
   ]
  },
  {
   "cell_type": "code",
   "execution_count": 8,
   "id": "8fd8bfee",
   "metadata": {},
   "outputs": [
    {
     "data": {
      "text/plain": [
       "0"
      ]
     },
     "execution_count": 8,
     "metadata": {},
     "output_type": "execute_result"
    }
   ],
   "source": [
    "# заменим пропуски на медианное значение столбца\n",
    "df_housing = df_housing.na.fill(value=median_bedrooms_value,subset=[\"total_bedrooms\"])\n",
    "# снова проверим количество пропусков в столбце\n",
    "df_housing.filter(F.col(\"total_bedrooms\").isNull()).count()"
   ]
  },
  {
   "cell_type": "markdown",
   "id": "ac6e8943",
   "metadata": {},
   "source": [
    "**Разделение на выборки**\n",
    "\n",
    "Разделим данные на обучающую и тестовую выборки в соотношении 3:1"
   ]
  },
  {
   "cell_type": "code",
   "execution_count": 9,
   "id": "a23657d1",
   "metadata": {},
   "outputs": [
    {
     "name": "stdout",
     "output_type": "stream",
     "text": [
      "15444 5196\n"
     ]
    }
   ],
   "source": [
    "train_data, test_data = df_housing.randomSplit([.75,.25], seed=RANDOM_SEED)\n",
    "print(train_data.count(), test_data.count())"
   ]
  },
  {
   "cell_type": "markdown",
   "id": "9c63a5c9",
   "metadata": {},
   "source": [
    "### Обработка категориальных и количественных значений"
   ]
  },
  {
   "cell_type": "code",
   "execution_count": 10,
   "id": "7219f283",
   "metadata": {},
   "outputs": [],
   "source": [
    "# разделим колонки на числовые и категориаьные признаки\n",
    "categorical_cols = ['ocean_proximity']\n",
    "numerical_cols  = ['housing_median_age',\n",
    "                   'total_rooms', 'total_bedrooms', 'population',\n",
    "                   'households', 'median_income'] #  не включаем столбцы с координатами\n",
    "target = 'median_house_value'"
   ]
  },
  {
   "cell_type": "markdown",
   "id": "8c6bcc46",
   "metadata": {},
   "source": [
    "**Трансформация категориальных признаков**\n",
    "\n",
    "Сначала приведём текстовые категории в числовое представление с помощью трансформера `StringIndexer`:"
   ]
  },
  {
   "cell_type": "code",
   "execution_count": 11,
   "id": "fdfcbecc",
   "metadata": {},
   "outputs": [
    {
     "name": "stdout",
     "output_type": "stream",
     "text": [
      "+---------------+-------------------+\n",
      "|ocean_proximity|ocean_proximity_idx|\n",
      "+---------------+-------------------+\n",
      "|     NEAR OCEAN|                2.0|\n",
      "|     NEAR OCEAN|                2.0|\n",
      "|     NEAR OCEAN|                2.0|\n",
      "+---------------+-------------------+\n",
      "only showing top 3 rows\n",
      "\n",
      "+---------------+-------------------+\n",
      "|ocean_proximity|ocean_proximity_idx|\n",
      "+---------------+-------------------+\n",
      "|     NEAR OCEAN|                2.0|\n",
      "|     NEAR OCEAN|                2.0|\n",
      "|     NEAR OCEAN|                2.0|\n",
      "+---------------+-------------------+\n",
      "only showing top 3 rows\n",
      "\n"
     ]
    }
   ],
   "source": [
    "string_indexer = StringIndexer(inputCols=categorical_cols, \n",
    "                        outputCols=[c+'_idx' for c in categorical_cols], handleInvalid='keep') #  , handleInvalid = 'keep'\n",
    "indexer = string_indexer.fit(train_data)\n",
    "\n",
    "train_data = indexer.transform(train_data)\n",
    "test_data = indexer.transform(test_data)\n",
    "\n",
    "cols = [c for c in train_data.columns for i in categorical_cols if (c.startswith(i))]\n",
    "train_data.select(cols).show(3) \n",
    "test_data.select(cols).show(3)"
   ]
  },
  {
   "cell_type": "markdown",
   "id": "5ea7e67b",
   "metadata": {},
   "source": [
    "Преобразуем колонку с категориальными значениями техникой *One hot encoding* с помощью трансформера `OneHotEncoder`:"
   ]
  },
  {
   "cell_type": "code",
   "execution_count": 12,
   "id": "94e166e6",
   "metadata": {},
   "outputs": [
    {
     "name": "stdout",
     "output_type": "stream",
     "text": [
      "+---------------+-------------------+-------------------+\n",
      "|ocean_proximity|ocean_proximity_idx|ocean_proximity_ohe|\n",
      "+---------------+-------------------+-------------------+\n",
      "|     NEAR OCEAN|                2.0|      (4,[2],[1.0])|\n",
      "|     NEAR OCEAN|                2.0|      (4,[2],[1.0])|\n",
      "|     NEAR OCEAN|                2.0|      (4,[2],[1.0])|\n",
      "+---------------+-------------------+-------------------+\n",
      "only showing top 3 rows\n",
      "\n",
      "+---------------+-------------------+-------------------+\n",
      "|ocean_proximity|ocean_proximity_idx|ocean_proximity_ohe|\n",
      "+---------------+-------------------+-------------------+\n",
      "|     NEAR OCEAN|                2.0|      (4,[2],[1.0])|\n",
      "|     NEAR OCEAN|                2.0|      (4,[2],[1.0])|\n",
      "|     NEAR OCEAN|                2.0|      (4,[2],[1.0])|\n",
      "+---------------+-------------------+-------------------+\n",
      "only showing top 3 rows\n",
      "\n"
     ]
    }
   ],
   "source": [
    "one_hot_encoder = OneHotEncoder(inputCols=[c+'_idx' for c in categorical_cols],\n",
    "                        outputCols=[c+'_ohe' for c in categorical_cols])\n",
    "encoder = one_hot_encoder.fit(train_data)\n",
    "\n",
    "train_data = encoder.transform(train_data)\n",
    "test_data = encoder.transform(test_data)\n",
    "\n",
    "cols = [c for c in train_data.columns for i in categorical_cols if (c.startswith(i))]\n",
    "train_data.select(cols).show(3) \n",
    "test_data.select(cols).show(3)"
   ]
  },
  {
   "cell_type": "markdown",
   "id": "970e1614",
   "metadata": {},
   "source": [
    "Объединим признаки в один вектор"
   ]
  },
  {
   "cell_type": "code",
   "execution_count": 13,
   "id": "83b50fcc",
   "metadata": {},
   "outputs": [],
   "source": [
    "categorical_assembler = \\\n",
    "        VectorAssembler(inputCols=[c+'_ohe' for c in categorical_cols],\n",
    "                                        outputCol=\"categorical_features\")\n",
    "train_data = categorical_assembler.transform(train_data) \n",
    "test_data = categorical_assembler.transform(test_data) "
   ]
  },
  {
   "cell_type": "markdown",
   "id": "c65e77bf",
   "metadata": {},
   "source": [
    "**Трансформация числовых признаков**\n",
    "\n",
    "Проведём масштабирование числовых признаков"
   ]
  },
  {
   "cell_type": "code",
   "execution_count": 14,
   "id": "77e70f00",
   "metadata": {},
   "outputs": [],
   "source": [
    "# объединим числовые признаки в один вектор\n",
    "numerical_assembler = VectorAssembler(inputCols=numerical_cols, outputCol=\"numerical_features\")\n",
    "train_data = numerical_assembler.transform(train_data)\n",
    "test_data = numerical_assembler.transform(test_data)"
   ]
  },
  {
   "cell_type": "code",
   "execution_count": 15,
   "id": "f7af563a",
   "metadata": {},
   "outputs": [],
   "source": [
    "# проведём масштабирование признаков\n",
    "standardScaler = StandardScaler(inputCol='numerical_features', outputCol=\"numerical_features_scaled\")\n",
    "scaler = standardScaler.fit(train_data)\n",
    "\n",
    "train_data = scaler.transform(train_data)\n",
    "test_data = scaler.transform(test_data)"
   ]
  },
  {
   "cell_type": "code",
   "execution_count": 16,
   "id": "a4bd4456",
   "metadata": {
    "scrolled": false
   },
   "outputs": [
    {
     "name": "stdout",
     "output_type": "stream",
     "text": [
      "['longitude', 'latitude', 'housing_median_age', 'total_rooms', 'total_bedrooms', 'population', 'households', 'median_income', 'median_house_value', 'ocean_proximity', 'ocean_proximity_idx', 'ocean_proximity_ohe', 'categorical_features', 'numerical_features', 'numerical_features_scaled']\n",
      "['longitude', 'latitude', 'housing_median_age', 'total_rooms', 'total_bedrooms', 'population', 'households', 'median_income', 'median_house_value', 'ocean_proximity', 'ocean_proximity_idx', 'ocean_proximity_ohe', 'categorical_features', 'numerical_features', 'numerical_features_scaled']\n"
     ]
    }
   ],
   "source": [
    "# выведем названия столбцов обновлённой таблицы\n",
    "print(train_data.columns)\n",
    "print(test_data.columns)"
   ]
  },
  {
   "cell_type": "code",
   "execution_count": 17,
   "id": "1d7b3b23",
   "metadata": {
    "scrolled": true
   },
   "outputs": [
    {
     "name": "stdout",
     "output_type": "stream",
     "text": [
      "+--------------------+-------------------------+\n",
      "|categorical_features|numerical_features_scaled|\n",
      "+--------------------+-------------------------+\n",
      "|       (4,[2],[1.0])|     [4.13137070444968...|\n",
      "|       (4,[2],[1.0])|     [2.86017971846516...|\n",
      "|       (4,[2],[1.0])|     [4.13137070444968...|\n",
      "+--------------------+-------------------------+\n",
      "only showing top 3 rows\n",
      "\n",
      "+--------------------+-------------------------+\n",
      "|categorical_features|numerical_features_scaled|\n",
      "+--------------------+-------------------------+\n",
      "|       (4,[2],[1.0])|     [1.50953929585661...|\n",
      "|       (4,[2],[1.0])|     [1.35064042260855...|\n",
      "|       (4,[2],[1.0])|     [4.13137070444968...|\n",
      "+--------------------+-------------------------+\n",
      "only showing top 3 rows\n",
      "\n"
     ]
    }
   ],
   "source": [
    "# объединим все признаки в один вектор\n",
    "all_features = ['categorical_features','numerical_features_scaled']\n",
    "\n",
    "final_assembler = VectorAssembler(inputCols=all_features, \n",
    "                                  outputCol=\"features\") \n",
    "train_data = final_assembler.transform(train_data)\n",
    "test_data = final_assembler.transform(test_data)\n",
    "\n",
    "train_data.select(all_features).show(3)\n",
    "test_data.select(all_features).show(3)"
   ]
  },
  {
   "cell_type": "markdown",
   "id": "99ca8b9a",
   "metadata": {
    "id": "9f0a82f3"
   },
   "source": [
    "## Обучение моделей"
   ]
  },
  {
   "cell_type": "markdown",
   "id": "2be12ffa",
   "metadata": {},
   "source": [
    "Построим две модели линейной регрессии на разных наборах данных:\n",
    "* все признаки используются;\n",
    "* только числовые признаки используются\n",
    "\n",
    "**Обучение модели линейной регрессии на всех признаках**"
   ]
  },
  {
   "cell_type": "code",
   "execution_count": 18,
   "id": "96bb8272",
   "metadata": {
    "id": "bddb08c4"
   },
   "outputs": [],
   "source": [
    "# обучим модель\n",
    "lr_all = LinearRegression(labelCol=target, featuresCol='features')\n",
    "\n",
    "model_all = lr_all.fit(train_data)\n",
    "# получим предсказания модели на тестовой выборке\n",
    "predictions_all = model_all.transform(test_data)"
   ]
  },
  {
   "cell_type": "markdown",
   "id": "f87d2ea5",
   "metadata": {},
   "source": [
    "**Обучение модели линейной регрессии на числовых признаках**"
   ]
  },
  {
   "cell_type": "code",
   "execution_count": 19,
   "id": "00373393",
   "metadata": {},
   "outputs": [],
   "source": [
    "# обучим модель\n",
    "lr_num = LinearRegression(labelCol=target, featuresCol='numerical_features_scaled')\n",
    "\n",
    "model_num = lr_num.fit(train_data)\n",
    "# получим предсказания модели на тестовой выборке\n",
    "predictions_num = model_num.transform(test_data)"
   ]
  },
  {
   "cell_type": "markdown",
   "id": "331c97b5",
   "metadata": {
    "id": "757fd103"
   },
   "source": [
    "## Анализ результатов"
   ]
  },
  {
   "cell_type": "markdown",
   "id": "3f3bc7ea",
   "metadata": {},
   "source": [
    "Сравним результаты работы линейной регрессии на двух наборах данных по метрикам RMSE, MAE и R2"
   ]
  },
  {
   "cell_type": "code",
   "execution_count": 20,
   "id": "263405ca",
   "metadata": {},
   "outputs": [],
   "source": [
    "test_all_result = model_all.evaluate(test_data)\n",
    "test_num_result = model_num.evaluate(test_data)"
   ]
  },
  {
   "cell_type": "code",
   "execution_count": 21,
   "id": "37e83db4",
   "metadata": {},
   "outputs": [
    {
     "name": "stdout",
     "output_type": "stream",
     "text": [
      "Набор данных со всеми признаками (выборка №1):\n",
      "RMSE = 69465.1\n",
      "MAE = 50411.9\n",
      "R2 = 0.641384\n"
     ]
    }
   ],
   "source": [
    "print(\"Набор данных со всеми признаками (выборка №1):\")\n",
    "print(\"RMSE = %g\" % test_all_result.rootMeanSquaredError)\n",
    "print(\"MAE = %g\" % test_all_result.meanAbsoluteError)\n",
    "print(\"R2 = %g\" % test_all_result.r2)"
   ]
  },
  {
   "cell_type": "code",
   "execution_count": 22,
   "id": "7dd6f0c5",
   "metadata": {},
   "outputs": [
    {
     "name": "stdout",
     "output_type": "stream",
     "text": [
      "Набор данных с числовыми признаками (выборка №2):\n",
      "RMSE = 75333\n",
      "MAE = 55163.1\n",
      "R2 = 0.578238\n"
     ]
    }
   ],
   "source": [
    "print(\"Набор данных с числовыми признаками (выборка №2):\")\n",
    "print(\"RMSE = %g\" % test_num_result.rootMeanSquaredError)\n",
    "print(\"MAE = %g\" % test_num_result.meanAbsoluteError)\n",
    "print(\"R2 = %g\" % test_num_result.r2)"
   ]
  },
  {
   "cell_type": "code",
   "execution_count": 23,
   "id": "2d552f0b",
   "metadata": {},
   "outputs": [],
   "source": [
    "spark.stop()"
   ]
  },
  {
   "cell_type": "markdown",
   "id": "17efb380",
   "metadata": {},
   "source": [
    "Для двух наборов данных (все столбцы и только числовые столбцы - выборка №1 и выборка №2 соответственно) рассмотрены три метрики:\n",
    "\n",
    "* **Корень из среднеквадратичной ошибки**\n",
    "\n",
    "Метрика показывает корень из среднего квадрата ошибки и неограничена сверху.  \n",
    "Для выборки №1 значение данной метрики оказалось меньше, чем для выборки №2. Следовательно, согласно данному критерию, модель, обученная на общей выборке (№1), имеет лучшее качество.\n",
    "\n",
    "* **Средняя абсолютная ошибка**\n",
    "\n",
    "Этот критерий показывает среднюю сумму отклонений (по модулю) предсказаний модели от настоящих значений из тестовых данных.  \n",
    "Для выборки №1 значение этой ошибки также оказалось меньше, чем для выборки №2. Также стоит заметить, что в целом значение данной ошибки меньше, чем значение RMSE: это обусловлено тем, что метрика RMSE более чувствительна к выбросам в данных.\n",
    "\n",
    "* **Коэффициент детерминации**\n",
    "\n",
    "Данная метрика позволяет интерпретировать значение среднеквадратичной ошибки: случай $R^2 = 1$ соответствует идеальной модели, а случай $R^2 = 0$ - оптимальной константной модели. Чем ближе значение $R^2$ к единице, тем лучше модель.\n",
    "Модель, обученная на выборке №1, показывает более высокий результат $R^2$ по сравнению с моделью, обученной на выборке №2.\n",
    "\n",
    "\n",
    "Таким образом, по трём рассмотренным критериям, модель, обученная на всех столбцах (количественных и категориальных) показывает лучший результат."
   ]
  },
  {
   "cell_type": "markdown",
   "id": "993b935e",
   "metadata": {},
   "source": [
    "# Выводы"
   ]
  },
  {
   "cell_type": "markdown",
   "id": "01a5926f",
   "metadata": {},
   "source": [
    "В рамках данного проекта была разработана модель линейной регрессии, предсказывающая медианную стоимость дома на основе данных о жилье в Калифорнии в 1990 году. Для реализации цели проекта были выполнены следующие задачи:\n",
    "* произведена подготовка данных, включающая обработку пропущенных значений и трансформацию категориальных (One-Hot Encoding) и количественных признаков (масштабирование).\n",
    "* построены две модели линейной регрессии на разных наборах данных:\n",
    "    * набор, содержащий все данные\n",
    "    * набор, содержащий только числовые данные, без категориальных\n",
    "* результаты работы двух моделей линейной регрессии были сравнены с помощью метрик RMSE, MAE и $R^2$: по рассмотренным критериям наилучшее качество достигается при обучениии модели на полном наборе данных (количественные и категориальные данные вместе)."
   ]
  }
 ],
 "metadata": {
  "ExecuteTimeLog": [
   {
    "duration": 659,
    "start_time": "2022-10-27T16:24:42.004Z"
   },
   {
    "duration": 14409,
    "start_time": "2022-10-27T16:24:42.664Z"
   },
   {
    "duration": 8386,
    "start_time": "2022-10-27T16:24:57.075Z"
   },
   {
    "duration": 1500,
    "start_time": "2022-10-27T16:25:05.523Z"
   },
   {
    "duration": 23724,
    "start_time": "2022-10-27T16:25:07.024Z"
   },
   {
    "duration": 2889,
    "start_time": "2022-10-27T16:25:30.750Z"
   },
   {
    "duration": 111,
    "start_time": "2022-10-27T16:25:33.641Z"
   },
   {
    "duration": 0,
    "start_time": "2022-10-27T16:25:33.754Z"
   },
   {
    "duration": 0,
    "start_time": "2022-10-27T16:25:33.755Z"
   },
   {
    "duration": 1,
    "start_time": "2022-10-27T16:25:33.756Z"
   },
   {
    "duration": 0,
    "start_time": "2022-10-27T16:25:33.758Z"
   },
   {
    "duration": 0,
    "start_time": "2022-10-27T16:25:33.759Z"
   },
   {
    "duration": 0,
    "start_time": "2022-10-27T16:25:33.761Z"
   },
   {
    "duration": 0,
    "start_time": "2022-10-27T16:25:33.762Z"
   },
   {
    "duration": 0,
    "start_time": "2022-10-27T16:25:33.763Z"
   },
   {
    "duration": 0,
    "start_time": "2022-10-27T16:25:33.764Z"
   },
   {
    "duration": 0,
    "start_time": "2022-10-27T16:25:33.765Z"
   },
   {
    "duration": 0,
    "start_time": "2022-10-27T16:25:33.767Z"
   },
   {
    "duration": 0,
    "start_time": "2022-10-27T16:25:33.768Z"
   },
   {
    "duration": 0,
    "start_time": "2022-10-27T16:25:33.769Z"
   },
   {
    "duration": 0,
    "start_time": "2022-10-27T16:25:33.771Z"
   },
   {
    "duration": 5066,
    "start_time": "2022-10-27T16:43:59.056Z"
   },
   {
    "duration": 111,
    "start_time": "2022-10-27T16:44:10.451Z"
   },
   {
    "duration": 959,
    "start_time": "2022-10-27T16:44:13.571Z"
   },
   {
    "duration": 3,
    "start_time": "2022-10-27T16:44:17.065Z"
   },
   {
    "duration": 2203,
    "start_time": "2022-10-27T16:44:19.223Z"
   },
   {
    "duration": 1069,
    "start_time": "2022-10-27T16:44:24.402Z"
   },
   {
    "duration": 54,
    "start_time": "2022-10-27T16:44:33.169Z"
   },
   {
    "duration": 50,
    "start_time": "2022-10-27T16:44:35.386Z"
   },
   {
    "duration": 1116,
    "start_time": "2022-10-27T16:44:37.623Z"
   },
   {
    "duration": 21,
    "start_time": "2022-10-27T16:44:41.050Z"
   },
   {
    "duration": 973,
    "start_time": "2022-10-27T16:44:43.361Z"
   },
   {
    "duration": 2391,
    "start_time": "2022-10-27T16:44:48.465Z"
   },
   {
    "duration": 1409,
    "start_time": "2022-10-27T16:44:53.217Z"
   },
   {
    "duration": 730,
    "start_time": "2022-10-27T16:44:58.625Z"
   },
   {
    "duration": 14,
    "start_time": "2022-10-27T16:45:01.714Z"
   },
   {
    "duration": 668,
    "start_time": "2022-10-27T16:45:20.310Z"
   },
   {
    "duration": 737,
    "start_time": "2022-10-27T16:45:59.012Z"
   },
   {
    "duration": 14397,
    "start_time": "2022-10-27T16:45:59.750Z"
   },
   {
    "duration": 7905,
    "start_time": "2022-10-27T16:46:14.149Z"
   },
   {
    "duration": 1378,
    "start_time": "2022-10-27T16:46:22.056Z"
   },
   {
    "duration": 20404,
    "start_time": "2022-10-27T16:46:23.436Z"
   },
   {
    "duration": 2921,
    "start_time": "2022-10-27T16:46:43.842Z"
   },
   {
    "duration": 2,
    "start_time": "2022-10-27T16:46:46.765Z"
   },
   {
    "duration": 4661,
    "start_time": "2022-10-27T16:46:46.768Z"
   },
   {
    "duration": 210,
    "start_time": "2022-10-27T16:46:51.431Z"
   },
   {
    "duration": 929,
    "start_time": "2022-10-27T16:46:51.644Z"
   },
   {
    "duration": 3,
    "start_time": "2022-10-27T16:46:52.574Z"
   },
   {
    "duration": 2363,
    "start_time": "2022-10-27T16:46:52.579Z"
   },
   {
    "duration": 1297,
    "start_time": "2022-10-27T16:46:54.943Z"
   },
   {
    "duration": 113,
    "start_time": "2022-10-27T16:46:56.241Z"
   },
   {
    "duration": 103,
    "start_time": "2022-10-27T16:46:56.355Z"
   },
   {
    "duration": 1092,
    "start_time": "2022-10-27T16:46:56.459Z"
   },
   {
    "duration": 74,
    "start_time": "2022-10-27T16:46:57.553Z"
   },
   {
    "duration": 917,
    "start_time": "2022-10-27T16:46:57.630Z"
   },
   {
    "duration": 2592,
    "start_time": "2022-10-27T16:46:58.549Z"
   },
   {
    "duration": 1513,
    "start_time": "2022-10-27T16:47:01.143Z"
   },
   {
    "duration": 855,
    "start_time": "2022-10-27T16:47:02.658Z"
   },
   {
    "duration": 607,
    "start_time": "2022-10-27T17:06:23.656Z"
   },
   {
    "duration": 14377,
    "start_time": "2022-10-27T17:06:24.265Z"
   },
   {
    "duration": 7681,
    "start_time": "2022-10-27T17:06:38.644Z"
   },
   {
    "duration": 1422,
    "start_time": "2022-10-27T17:06:46.328Z"
   },
   {
    "duration": 24575,
    "start_time": "2022-10-27T17:06:47.752Z"
   },
   {
    "duration": 4500,
    "start_time": "2022-10-27T17:07:12.329Z"
   },
   {
    "duration": 3,
    "start_time": "2022-10-27T17:07:16.831Z"
   },
   {
    "duration": 6605,
    "start_time": "2022-10-27T17:07:16.836Z"
   },
   {
    "duration": 196,
    "start_time": "2022-10-27T17:07:23.443Z"
   },
   {
    "duration": 1188,
    "start_time": "2022-10-27T17:07:23.642Z"
   },
   {
    "duration": 3,
    "start_time": "2022-10-27T17:07:24.831Z"
   },
   {
    "duration": 2799,
    "start_time": "2022-10-27T17:07:24.836Z"
   },
   {
    "duration": 1391,
    "start_time": "2022-10-27T17:07:27.637Z"
   },
   {
    "duration": 123,
    "start_time": "2022-10-27T17:07:29.030Z"
   },
   {
    "duration": 104,
    "start_time": "2022-10-27T17:07:29.155Z"
   },
   {
    "duration": 1075,
    "start_time": "2022-10-27T17:07:29.261Z"
   },
   {
    "duration": 6,
    "start_time": "2022-10-27T17:07:30.338Z"
   },
   {
    "duration": 1109,
    "start_time": "2022-10-27T17:07:30.346Z"
   },
   {
    "duration": 2889,
    "start_time": "2022-10-27T17:07:31.457Z"
   },
   {
    "duration": 1795,
    "start_time": "2022-10-27T17:07:34.347Z"
   },
   {
    "duration": 1945,
    "start_time": "2022-10-27T17:07:36.144Z"
   },
   {
    "duration": 5,
    "start_time": "2022-10-27T17:12:45.699Z"
   },
   {
    "duration": 664,
    "start_time": "2022-10-27T17:23:34.995Z"
   },
   {
    "duration": 14476,
    "start_time": "2022-10-27T17:23:35.661Z"
   },
   {
    "duration": 7810,
    "start_time": "2022-10-27T17:23:50.139Z"
   },
   {
    "duration": 1403,
    "start_time": "2022-10-27T17:23:57.952Z"
   },
   {
    "duration": 27273,
    "start_time": "2022-10-27T17:23:59.357Z"
   },
   {
    "duration": 3399,
    "start_time": "2022-10-27T17:24:26.631Z"
   },
   {
    "duration": 2,
    "start_time": "2022-10-27T17:24:30.032Z"
   },
   {
    "duration": 5218,
    "start_time": "2022-10-27T17:24:30.036Z"
   },
   {
    "duration": 275,
    "start_time": "2022-10-27T17:24:35.256Z"
   },
   {
    "duration": 1125,
    "start_time": "2022-10-27T17:24:35.533Z"
   },
   {
    "duration": 4,
    "start_time": "2022-10-27T17:24:36.659Z"
   },
   {
    "duration": 2811,
    "start_time": "2022-10-27T17:24:36.723Z"
   },
   {
    "duration": 1231,
    "start_time": "2022-10-27T17:24:39.536Z"
   },
   {
    "duration": 75,
    "start_time": "2022-10-27T17:24:40.769Z"
   },
   {
    "duration": 103,
    "start_time": "2022-10-27T17:24:40.845Z"
   },
   {
    "duration": 977,
    "start_time": "2022-10-27T17:24:40.950Z"
   },
   {
    "duration": 6,
    "start_time": "2022-10-27T17:24:41.929Z"
   },
   {
    "duration": 1025,
    "start_time": "2022-10-27T17:24:41.937Z"
   },
   {
    "duration": 3472,
    "start_time": "2022-10-27T17:24:42.963Z"
   },
   {
    "duration": 1809,
    "start_time": "2022-10-27T17:24:46.437Z"
   },
   {
    "duration": 1874,
    "start_time": "2022-10-27T17:24:48.249Z"
   },
   {
    "duration": 4,
    "start_time": "2022-10-27T17:24:50.124Z"
   },
   {
    "duration": 8,
    "start_time": "2022-10-27T17:24:50.130Z"
   },
   {
    "duration": 710,
    "start_time": "2022-10-27T17:24:50.140Z"
   }
  ],
  "colab": {
   "name": "PySparkSprint.ipynb",
   "provenance": []
  },
  "kernelspec": {
   "display_name": "Python 3",
   "language": "python",
   "name": "python3"
  },
  "language_info": {
   "codemirror_mode": {
    "name": "ipython",
    "version": 3
   },
   "file_extension": ".py",
   "mimetype": "text/x-python",
   "name": "python",
   "nbconvert_exporter": "python",
   "pygments_lexer": "ipython3",
   "version": "3.6.9"
  },
  "toc": {
   "base_numbering": 1,
   "nav_menu": {},
   "number_sections": true,
   "sideBar": true,
   "skip_h1_title": true,
   "title_cell": "Table of Contents",
   "title_sidebar": "Contents",
   "toc_cell": false,
   "toc_position": {
    "height": "calc(100% - 180px)",
    "left": "10px",
    "top": "150px",
    "width": "384px"
   },
   "toc_section_display": true,
   "toc_window_display": false
  }
 },
 "nbformat": 4,
 "nbformat_minor": 5
}
