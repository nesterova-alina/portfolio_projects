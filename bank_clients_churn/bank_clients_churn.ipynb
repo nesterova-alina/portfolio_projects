{
 "cells": [
  {
   "cell_type": "markdown",
   "metadata": {
    "toc": true
   },
   "source": [
    "<h1>Содержание<span class=\"tocSkip\"></span></h1>\n",
    "<div class=\"toc\"><ul class=\"toc-item\"><li><span><a href=\"#Подготовка-данных\" data-toc-modified-id=\"Подготовка-данных-1\"><span class=\"toc-item-num\">1&nbsp;&nbsp;</span>Подготовка данных</a></span></li><li><span><a href=\"#Исследование-задачи\" data-toc-modified-id=\"Исследование-задачи-2\"><span class=\"toc-item-num\">2&nbsp;&nbsp;</span>Исследование задачи</a></span></li><li><span><a href=\"#Борьба-с-дисбалансом\" data-toc-modified-id=\"Борьба-с-дисбалансом-3\"><span class=\"toc-item-num\">3&nbsp;&nbsp;</span>Борьба с дисбалансом</a></span><ul class=\"toc-item\"><li><span><a href=\"#Решающее-дерево\" data-toc-modified-id=\"Решающее-дерево-3.1\"><span class=\"toc-item-num\">3.1&nbsp;&nbsp;</span>Решающее дерево</a></span></li><li><span><a href=\"#Решающий-лес\" data-toc-modified-id=\"Решающий-лес-3.2\"><span class=\"toc-item-num\">3.2&nbsp;&nbsp;</span>Решающий лес</a></span></li><li><span><a href=\"#Логистическая-регрессия\" data-toc-modified-id=\"Логистическая-регрессия-3.3\"><span class=\"toc-item-num\">3.3&nbsp;&nbsp;</span>Логистическая регрессия</a></span></li></ul></li><li><span><a href=\"#Тестирование-модели\" data-toc-modified-id=\"Тестирование-модели-4\"><span class=\"toc-item-num\">4&nbsp;&nbsp;</span>Тестирование модели</a></span></li><li><span><a href=\"#Выводы\" data-toc-modified-id=\"Выводы-5\"><span class=\"toc-item-num\">5&nbsp;&nbsp;</span>Выводы</a></span></li></ul></div>"
   ]
  },
  {
   "cell_type": "markdown",
   "metadata": {},
   "source": [
    "# Прогнозирование оттока клиентов банка"
   ]
  },
  {
   "cell_type": "markdown",
   "metadata": {},
   "source": [
    "Из банка стали уходить клиенты. Каждый месяц немного, но заметно. Банковские маркетологи посчитали: сохранять текущих клиентов дешевле, чем привлекать новых.   \n",
    "Для проекта предоставлены исторические данные о поведении клиентов и расторжении договоров с банком. \n",
    "\n",
    "**Цель проекта:** спрогнозировать, уйдёт клиент из банка в ближайшее время или нет.  \n",
    "\n",
    "**Задачи:**  \n",
    "- построить модель с предельно большим значением *F1*-меры  (не менее 0.59)\n",
    "- проверить *F1*-меру на тестовой выборке\n",
    "- дополнительно измерять *AUC-ROC*, сравнивать её значение с *F1*-мерой.\n",
    "\n",
    "**Ход исследования:**\n",
    " * Шаг 1: Подготовка данных\n",
    " * Шаг 2: Исследование задачи\n",
    " * Шаг 3: Борьба с дисбалансом\n",
    " * Шаг 4: Тестирование модели\n",
    " * Шаг 5: Выводы"
   ]
  },
  {
   "cell_type": "code",
   "execution_count": 1,
   "metadata": {},
   "outputs": [],
   "source": [
    "# импорт необходимых библиотек\n",
    "import pandas as pd\n",
    "import numpy as np\n",
    "import matplotlib.pyplot as plt\n",
    "\n",
    "from sklearn.preprocessing import StandardScaler\n",
    "from sklearn.utils import shuffle\n",
    "\n",
    "from sklearn.model_selection import train_test_split\n",
    "\n",
    "from sklearn.tree import DecisionTreeClassifier\n",
    "from sklearn.ensemble import RandomForestClassifier\n",
    "from sklearn.linear_model import LogisticRegression\n",
    "from sklearn.dummy import DummyClassifier\n",
    "\n",
    "from sklearn.metrics import accuracy_score\n",
    "from sklearn.metrics import f1_score\n",
    "from sklearn.metrics import roc_curve\n",
    "from sklearn.metrics import roc_auc_score\n",
    "\n",
    "pd.options.mode.chained_assignment = None\n",
    "RANDOM_STATE = 12345"
   ]
  },
  {
   "cell_type": "markdown",
   "metadata": {},
   "source": [
    "## Подготовка данных"
   ]
  },
  {
   "cell_type": "markdown",
   "metadata": {},
   "source": [
    "Прочитаем файл и сохраним его в переменной `df`"
   ]
  },
  {
   "cell_type": "markdown",
   "metadata": {},
   "source": [
    "Для ознакомления с данными выведем на экран информацию о таблице и первые 10 строк таблицы:"
   ]
  },
  {
   "cell_type": "code",
   "execution_count": 3,
   "metadata": {
    "scrolled": true
   },
   "outputs": [
    {
     "name": "stdout",
     "output_type": "stream",
     "text": [
      "<class 'pandas.core.frame.DataFrame'>\n",
      "Int64Index: 10000 entries, 1 to 10000\n",
      "Data columns (total 13 columns):\n",
      " #   Column           Non-Null Count  Dtype  \n",
      "---  ------           --------------  -----  \n",
      " 0   CustomerId       10000 non-null  int64  \n",
      " 1   Surname          10000 non-null  object \n",
      " 2   CreditScore      10000 non-null  int64  \n",
      " 3   Geography        10000 non-null  object \n",
      " 4   Gender           10000 non-null  object \n",
      " 5   Age              10000 non-null  int64  \n",
      " 6   Tenure           9091 non-null   float64\n",
      " 7   Balance          10000 non-null  float64\n",
      " 8   NumOfProducts    10000 non-null  int64  \n",
      " 9   HasCrCard        10000 non-null  int64  \n",
      " 10  IsActiveMember   10000 non-null  int64  \n",
      " 11  EstimatedSalary  10000 non-null  float64\n",
      " 12  Exited           10000 non-null  int64  \n",
      "dtypes: float64(3), int64(7), object(3)\n",
      "memory usage: 1.1+ MB\n",
      "None\n"
     ]
    },
    {
     "data": {
      "text/html": [
       "<div>\n",
       "<style scoped>\n",
       "    .dataframe tbody tr th:only-of-type {\n",
       "        vertical-align: middle;\n",
       "    }\n",
       "\n",
       "    .dataframe tbody tr th {\n",
       "        vertical-align: top;\n",
       "    }\n",
       "\n",
       "    .dataframe thead th {\n",
       "        text-align: right;\n",
       "    }\n",
       "</style>\n",
       "<table border=\"1\" class=\"dataframe\">\n",
       "  <thead>\n",
       "    <tr style=\"text-align: right;\">\n",
       "      <th></th>\n",
       "      <th>CustomerId</th>\n",
       "      <th>Surname</th>\n",
       "      <th>CreditScore</th>\n",
       "      <th>Geography</th>\n",
       "      <th>Gender</th>\n",
       "      <th>Age</th>\n",
       "      <th>Tenure</th>\n",
       "      <th>Balance</th>\n",
       "      <th>NumOfProducts</th>\n",
       "      <th>HasCrCard</th>\n",
       "      <th>IsActiveMember</th>\n",
       "      <th>EstimatedSalary</th>\n",
       "      <th>Exited</th>\n",
       "    </tr>\n",
       "    <tr>\n",
       "      <th>RowNumber</th>\n",
       "      <th></th>\n",
       "      <th></th>\n",
       "      <th></th>\n",
       "      <th></th>\n",
       "      <th></th>\n",
       "      <th></th>\n",
       "      <th></th>\n",
       "      <th></th>\n",
       "      <th></th>\n",
       "      <th></th>\n",
       "      <th></th>\n",
       "      <th></th>\n",
       "      <th></th>\n",
       "    </tr>\n",
       "  </thead>\n",
       "  <tbody>\n",
       "    <tr>\n",
       "      <th>1</th>\n",
       "      <td>15634602</td>\n",
       "      <td>Hargrave</td>\n",
       "      <td>619</td>\n",
       "      <td>France</td>\n",
       "      <td>Female</td>\n",
       "      <td>42</td>\n",
       "      <td>2.0</td>\n",
       "      <td>0.00</td>\n",
       "      <td>1</td>\n",
       "      <td>1</td>\n",
       "      <td>1</td>\n",
       "      <td>101348.88</td>\n",
       "      <td>1</td>\n",
       "    </tr>\n",
       "    <tr>\n",
       "      <th>2</th>\n",
       "      <td>15647311</td>\n",
       "      <td>Hill</td>\n",
       "      <td>608</td>\n",
       "      <td>Spain</td>\n",
       "      <td>Female</td>\n",
       "      <td>41</td>\n",
       "      <td>1.0</td>\n",
       "      <td>83807.86</td>\n",
       "      <td>1</td>\n",
       "      <td>0</td>\n",
       "      <td>1</td>\n",
       "      <td>112542.58</td>\n",
       "      <td>0</td>\n",
       "    </tr>\n",
       "    <tr>\n",
       "      <th>3</th>\n",
       "      <td>15619304</td>\n",
       "      <td>Onio</td>\n",
       "      <td>502</td>\n",
       "      <td>France</td>\n",
       "      <td>Female</td>\n",
       "      <td>42</td>\n",
       "      <td>8.0</td>\n",
       "      <td>159660.80</td>\n",
       "      <td>3</td>\n",
       "      <td>1</td>\n",
       "      <td>0</td>\n",
       "      <td>113931.57</td>\n",
       "      <td>1</td>\n",
       "    </tr>\n",
       "    <tr>\n",
       "      <th>4</th>\n",
       "      <td>15701354</td>\n",
       "      <td>Boni</td>\n",
       "      <td>699</td>\n",
       "      <td>France</td>\n",
       "      <td>Female</td>\n",
       "      <td>39</td>\n",
       "      <td>1.0</td>\n",
       "      <td>0.00</td>\n",
       "      <td>2</td>\n",
       "      <td>0</td>\n",
       "      <td>0</td>\n",
       "      <td>93826.63</td>\n",
       "      <td>0</td>\n",
       "    </tr>\n",
       "    <tr>\n",
       "      <th>5</th>\n",
       "      <td>15737888</td>\n",
       "      <td>Mitchell</td>\n",
       "      <td>850</td>\n",
       "      <td>Spain</td>\n",
       "      <td>Female</td>\n",
       "      <td>43</td>\n",
       "      <td>2.0</td>\n",
       "      <td>125510.82</td>\n",
       "      <td>1</td>\n",
       "      <td>1</td>\n",
       "      <td>1</td>\n",
       "      <td>79084.10</td>\n",
       "      <td>0</td>\n",
       "    </tr>\n",
       "    <tr>\n",
       "      <th>6</th>\n",
       "      <td>15574012</td>\n",
       "      <td>Chu</td>\n",
       "      <td>645</td>\n",
       "      <td>Spain</td>\n",
       "      <td>Male</td>\n",
       "      <td>44</td>\n",
       "      <td>8.0</td>\n",
       "      <td>113755.78</td>\n",
       "      <td>2</td>\n",
       "      <td>1</td>\n",
       "      <td>0</td>\n",
       "      <td>149756.71</td>\n",
       "      <td>1</td>\n",
       "    </tr>\n",
       "    <tr>\n",
       "      <th>7</th>\n",
       "      <td>15592531</td>\n",
       "      <td>Bartlett</td>\n",
       "      <td>822</td>\n",
       "      <td>France</td>\n",
       "      <td>Male</td>\n",
       "      <td>50</td>\n",
       "      <td>7.0</td>\n",
       "      <td>0.00</td>\n",
       "      <td>2</td>\n",
       "      <td>1</td>\n",
       "      <td>1</td>\n",
       "      <td>10062.80</td>\n",
       "      <td>0</td>\n",
       "    </tr>\n",
       "    <tr>\n",
       "      <th>8</th>\n",
       "      <td>15656148</td>\n",
       "      <td>Obinna</td>\n",
       "      <td>376</td>\n",
       "      <td>Germany</td>\n",
       "      <td>Female</td>\n",
       "      <td>29</td>\n",
       "      <td>4.0</td>\n",
       "      <td>115046.74</td>\n",
       "      <td>4</td>\n",
       "      <td>1</td>\n",
       "      <td>0</td>\n",
       "      <td>119346.88</td>\n",
       "      <td>1</td>\n",
       "    </tr>\n",
       "    <tr>\n",
       "      <th>9</th>\n",
       "      <td>15792365</td>\n",
       "      <td>He</td>\n",
       "      <td>501</td>\n",
       "      <td>France</td>\n",
       "      <td>Male</td>\n",
       "      <td>44</td>\n",
       "      <td>4.0</td>\n",
       "      <td>142051.07</td>\n",
       "      <td>2</td>\n",
       "      <td>0</td>\n",
       "      <td>1</td>\n",
       "      <td>74940.50</td>\n",
       "      <td>0</td>\n",
       "    </tr>\n",
       "    <tr>\n",
       "      <th>10</th>\n",
       "      <td>15592389</td>\n",
       "      <td>H?</td>\n",
       "      <td>684</td>\n",
       "      <td>France</td>\n",
       "      <td>Male</td>\n",
       "      <td>27</td>\n",
       "      <td>2.0</td>\n",
       "      <td>134603.88</td>\n",
       "      <td>1</td>\n",
       "      <td>1</td>\n",
       "      <td>1</td>\n",
       "      <td>71725.73</td>\n",
       "      <td>0</td>\n",
       "    </tr>\n",
       "  </tbody>\n",
       "</table>\n",
       "</div>"
      ],
      "text/plain": [
       "           CustomerId   Surname  CreditScore Geography  Gender  Age  Tenure  \\\n",
       "RowNumber                                                                     \n",
       "1            15634602  Hargrave          619    France  Female   42     2.0   \n",
       "2            15647311      Hill          608     Spain  Female   41     1.0   \n",
       "3            15619304      Onio          502    France  Female   42     8.0   \n",
       "4            15701354      Boni          699    France  Female   39     1.0   \n",
       "5            15737888  Mitchell          850     Spain  Female   43     2.0   \n",
       "6            15574012       Chu          645     Spain    Male   44     8.0   \n",
       "7            15592531  Bartlett          822    France    Male   50     7.0   \n",
       "8            15656148    Obinna          376   Germany  Female   29     4.0   \n",
       "9            15792365        He          501    France    Male   44     4.0   \n",
       "10           15592389        H?          684    France    Male   27     2.0   \n",
       "\n",
       "             Balance  NumOfProducts  HasCrCard  IsActiveMember  \\\n",
       "RowNumber                                                        \n",
       "1               0.00              1          1               1   \n",
       "2           83807.86              1          0               1   \n",
       "3          159660.80              3          1               0   \n",
       "4               0.00              2          0               0   \n",
       "5          125510.82              1          1               1   \n",
       "6          113755.78              2          1               0   \n",
       "7               0.00              2          1               1   \n",
       "8          115046.74              4          1               0   \n",
       "9          142051.07              2          0               1   \n",
       "10         134603.88              1          1               1   \n",
       "\n",
       "           EstimatedSalary  Exited  \n",
       "RowNumber                           \n",
       "1                101348.88       1  \n",
       "2                112542.58       0  \n",
       "3                113931.57       1  \n",
       "4                 93826.63       0  \n",
       "5                 79084.10       0  \n",
       "6                149756.71       1  \n",
       "7                 10062.80       0  \n",
       "8                119346.88       1  \n",
       "9                 74940.50       0  \n",
       "10                71725.73       0  "
      ]
     },
     "execution_count": 3,
     "metadata": {},
     "output_type": "execute_result"
    }
   ],
   "source": [
    "print(df.info())\n",
    "df.head(10)"
   ]
  },
  {
   "cell_type": "markdown",
   "metadata": {},
   "source": [
    "В нашем распоряжении информация о поведении 10000 клиентов банка.  \n",
    "Согласно документации, в данных содержатся столбцы признаков и целевой признак.\n",
    "\n",
    "**Признаки**\n",
    "* *RowNumber* — индекс строки в данных\n",
    "* *CustomerId* — уникальный идентификатор клиента\n",
    "* *Surname* — фамилия\n",
    "* *CreditScore* — кредитный рейтинг\n",
    "* *Geography* — страна проживания\n",
    "* *Gender* — пол\n",
    "* *Age* — возраст\n",
    "* *Tenure* — сколько лет человек является клиентом банка\n",
    "* *Balance* — баланс на счёте\n",
    "* *NumOfProducts* — количество продуктов банка, используемых клиентом\n",
    "* *HasCrCard* — наличие кредитной карты\n",
    "* *IsActiveMember* — активность клиента\n",
    "* *EstimatedSalary* — предполагаемая зарплата\n",
    "\n",
    "**Целевой признак**\n",
    "* *Exited* — факт ухода клиента\n",
    "\n",
    "Среди признаков содержатся столбцы, не влияющие на процесс обучения модели: например, *CustomerId* и *Surname*. Удалим эти столбцы.  \n",
    "В столбце *Tenure* можно заменить тип данных на `int`.\n",
    "\n",
    "Кроме этого, преобразуем категориальные признаки прямым кодированием."
   ]
  },
  {
   "cell_type": "code",
   "execution_count": 4,
   "metadata": {},
   "outputs": [
    {
     "name": "stdout",
     "output_type": "stream",
     "text": [
      "<class 'pandas.core.frame.DataFrame'>\n",
      "Int64Index: 10000 entries, 1 to 10000\n",
      "Data columns (total 12 columns):\n",
      " #   Column             Non-Null Count  Dtype  \n",
      "---  ------             --------------  -----  \n",
      " 0   CreditScore        10000 non-null  int64  \n",
      " 1   Age                10000 non-null  int64  \n",
      " 2   Tenure             9091 non-null   Int64  \n",
      " 3   Balance            10000 non-null  float64\n",
      " 4   NumOfProducts      10000 non-null  int64  \n",
      " 5   HasCrCard          10000 non-null  int64  \n",
      " 6   IsActiveMember     10000 non-null  int64  \n",
      " 7   EstimatedSalary    10000 non-null  float64\n",
      " 8   Exited             10000 non-null  int64  \n",
      " 9   Geography_Germany  10000 non-null  uint8  \n",
      " 10  Geography_Spain    10000 non-null  uint8  \n",
      " 11  Gender_Male        10000 non-null  uint8  \n",
      "dtypes: Int64(1), float64(2), int64(6), uint8(3)\n",
      "memory usage: 820.3 KB\n"
     ]
    }
   ],
   "source": [
    "df = df.drop(['CustomerId', 'Surname'], axis=1)\n",
    "df['Tenure'] = df['Tenure'].astype('Int64')\n",
    "df_ohe = pd.get_dummies(df, drop_first=True)\n",
    "df_ohe.info()"
   ]
  },
  {
   "cell_type": "markdown",
   "metadata": {},
   "source": [
    "Проверим столбцы методом `describe()`."
   ]
  },
  {
   "cell_type": "code",
   "execution_count": 5,
   "metadata": {},
   "outputs": [
    {
     "data": {
      "text/html": [
       "<div>\n",
       "<style scoped>\n",
       "    .dataframe tbody tr th:only-of-type {\n",
       "        vertical-align: middle;\n",
       "    }\n",
       "\n",
       "    .dataframe tbody tr th {\n",
       "        vertical-align: top;\n",
       "    }\n",
       "\n",
       "    .dataframe thead th {\n",
       "        text-align: right;\n",
       "    }\n",
       "</style>\n",
       "<table border=\"1\" class=\"dataframe\">\n",
       "  <thead>\n",
       "    <tr style=\"text-align: right;\">\n",
       "      <th></th>\n",
       "      <th>CreditScore</th>\n",
       "      <th>Age</th>\n",
       "      <th>Tenure</th>\n",
       "      <th>Balance</th>\n",
       "      <th>NumOfProducts</th>\n",
       "      <th>HasCrCard</th>\n",
       "      <th>IsActiveMember</th>\n",
       "      <th>EstimatedSalary</th>\n",
       "      <th>Exited</th>\n",
       "      <th>Geography_Germany</th>\n",
       "      <th>Geography_Spain</th>\n",
       "      <th>Gender_Male</th>\n",
       "    </tr>\n",
       "  </thead>\n",
       "  <tbody>\n",
       "    <tr>\n",
       "      <th>count</th>\n",
       "      <td>10000.000000</td>\n",
       "      <td>10000.000000</td>\n",
       "      <td>9091.000000</td>\n",
       "      <td>10000.000000</td>\n",
       "      <td>10000.000000</td>\n",
       "      <td>10000.00000</td>\n",
       "      <td>10000.000000</td>\n",
       "      <td>10000.000000</td>\n",
       "      <td>10000.000000</td>\n",
       "      <td>10000.000000</td>\n",
       "      <td>10000.000000</td>\n",
       "      <td>10000.000000</td>\n",
       "    </tr>\n",
       "    <tr>\n",
       "      <th>mean</th>\n",
       "      <td>650.528800</td>\n",
       "      <td>38.921800</td>\n",
       "      <td>4.997690</td>\n",
       "      <td>76485.889288</td>\n",
       "      <td>1.530200</td>\n",
       "      <td>0.70550</td>\n",
       "      <td>0.515100</td>\n",
       "      <td>100090.239881</td>\n",
       "      <td>0.203700</td>\n",
       "      <td>0.250900</td>\n",
       "      <td>0.247700</td>\n",
       "      <td>0.545700</td>\n",
       "    </tr>\n",
       "    <tr>\n",
       "      <th>std</th>\n",
       "      <td>96.653299</td>\n",
       "      <td>10.487806</td>\n",
       "      <td>2.894723</td>\n",
       "      <td>62397.405202</td>\n",
       "      <td>0.581654</td>\n",
       "      <td>0.45584</td>\n",
       "      <td>0.499797</td>\n",
       "      <td>57510.492818</td>\n",
       "      <td>0.402769</td>\n",
       "      <td>0.433553</td>\n",
       "      <td>0.431698</td>\n",
       "      <td>0.497932</td>\n",
       "    </tr>\n",
       "    <tr>\n",
       "      <th>min</th>\n",
       "      <td>350.000000</td>\n",
       "      <td>18.000000</td>\n",
       "      <td>0.000000</td>\n",
       "      <td>0.000000</td>\n",
       "      <td>1.000000</td>\n",
       "      <td>0.00000</td>\n",
       "      <td>0.000000</td>\n",
       "      <td>11.580000</td>\n",
       "      <td>0.000000</td>\n",
       "      <td>0.000000</td>\n",
       "      <td>0.000000</td>\n",
       "      <td>0.000000</td>\n",
       "    </tr>\n",
       "    <tr>\n",
       "      <th>25%</th>\n",
       "      <td>584.000000</td>\n",
       "      <td>32.000000</td>\n",
       "      <td>2.000000</td>\n",
       "      <td>0.000000</td>\n",
       "      <td>1.000000</td>\n",
       "      <td>0.00000</td>\n",
       "      <td>0.000000</td>\n",
       "      <td>51002.110000</td>\n",
       "      <td>0.000000</td>\n",
       "      <td>0.000000</td>\n",
       "      <td>0.000000</td>\n",
       "      <td>0.000000</td>\n",
       "    </tr>\n",
       "    <tr>\n",
       "      <th>50%</th>\n",
       "      <td>652.000000</td>\n",
       "      <td>37.000000</td>\n",
       "      <td>5.000000</td>\n",
       "      <td>97198.540000</td>\n",
       "      <td>1.000000</td>\n",
       "      <td>1.00000</td>\n",
       "      <td>1.000000</td>\n",
       "      <td>100193.915000</td>\n",
       "      <td>0.000000</td>\n",
       "      <td>0.000000</td>\n",
       "      <td>0.000000</td>\n",
       "      <td>1.000000</td>\n",
       "    </tr>\n",
       "    <tr>\n",
       "      <th>75%</th>\n",
       "      <td>718.000000</td>\n",
       "      <td>44.000000</td>\n",
       "      <td>7.000000</td>\n",
       "      <td>127644.240000</td>\n",
       "      <td>2.000000</td>\n",
       "      <td>1.00000</td>\n",
       "      <td>1.000000</td>\n",
       "      <td>149388.247500</td>\n",
       "      <td>0.000000</td>\n",
       "      <td>1.000000</td>\n",
       "      <td>0.000000</td>\n",
       "      <td>1.000000</td>\n",
       "    </tr>\n",
       "    <tr>\n",
       "      <th>max</th>\n",
       "      <td>850.000000</td>\n",
       "      <td>92.000000</td>\n",
       "      <td>10.000000</td>\n",
       "      <td>250898.090000</td>\n",
       "      <td>4.000000</td>\n",
       "      <td>1.00000</td>\n",
       "      <td>1.000000</td>\n",
       "      <td>199992.480000</td>\n",
       "      <td>1.000000</td>\n",
       "      <td>1.000000</td>\n",
       "      <td>1.000000</td>\n",
       "      <td>1.000000</td>\n",
       "    </tr>\n",
       "  </tbody>\n",
       "</table>\n",
       "</div>"
      ],
      "text/plain": [
       "        CreditScore           Age       Tenure        Balance  NumOfProducts  \\\n",
       "count  10000.000000  10000.000000  9091.000000   10000.000000   10000.000000   \n",
       "mean     650.528800     38.921800     4.997690   76485.889288       1.530200   \n",
       "std       96.653299     10.487806     2.894723   62397.405202       0.581654   \n",
       "min      350.000000     18.000000     0.000000       0.000000       1.000000   \n",
       "25%      584.000000     32.000000     2.000000       0.000000       1.000000   \n",
       "50%      652.000000     37.000000     5.000000   97198.540000       1.000000   \n",
       "75%      718.000000     44.000000     7.000000  127644.240000       2.000000   \n",
       "max      850.000000     92.000000    10.000000  250898.090000       4.000000   \n",
       "\n",
       "         HasCrCard  IsActiveMember  EstimatedSalary        Exited  \\\n",
       "count  10000.00000    10000.000000     10000.000000  10000.000000   \n",
       "mean       0.70550        0.515100    100090.239881      0.203700   \n",
       "std        0.45584        0.499797     57510.492818      0.402769   \n",
       "min        0.00000        0.000000        11.580000      0.000000   \n",
       "25%        0.00000        0.000000     51002.110000      0.000000   \n",
       "50%        1.00000        1.000000    100193.915000      0.000000   \n",
       "75%        1.00000        1.000000    149388.247500      0.000000   \n",
       "max        1.00000        1.000000    199992.480000      1.000000   \n",
       "\n",
       "       Geography_Germany  Geography_Spain   Gender_Male  \n",
       "count       10000.000000     10000.000000  10000.000000  \n",
       "mean            0.250900         0.247700      0.545700  \n",
       "std             0.433553         0.431698      0.497932  \n",
       "min             0.000000         0.000000      0.000000  \n",
       "25%             0.000000         0.000000      0.000000  \n",
       "50%             0.000000         0.000000      1.000000  \n",
       "75%             1.000000         0.000000      1.000000  \n",
       "max             1.000000         1.000000      1.000000  "
      ]
     },
     "execution_count": 5,
     "metadata": {},
     "output_type": "execute_result"
    }
   ],
   "source": [
    "df_ohe.describe()"
   ]
  },
  {
   "cell_type": "markdown",
   "metadata": {},
   "source": [
    "Аномалий в данных обнаружено не было. Предварительно можно отметить наличие дисбаланса классов целевого признака: количество объектов положительного класса составляет всего 20% от общего числа.  \n",
    "Проверим данные на наличие дубликатов и пропусков"
   ]
  },
  {
   "cell_type": "code",
   "execution_count": 6,
   "metadata": {},
   "outputs": [
    {
     "data": {
      "text/plain": [
       "0"
      ]
     },
     "execution_count": 6,
     "metadata": {},
     "output_type": "execute_result"
    }
   ],
   "source": [
    "df_ohe.duplicated().sum()"
   ]
  },
  {
   "cell_type": "code",
   "execution_count": 7,
   "metadata": {},
   "outputs": [
    {
     "data": {
      "text/plain": [
       "CreditScore            0\n",
       "Age                    0\n",
       "Tenure               909\n",
       "Balance                0\n",
       "NumOfProducts          0\n",
       "HasCrCard              0\n",
       "IsActiveMember         0\n",
       "EstimatedSalary        0\n",
       "Exited                 0\n",
       "Geography_Germany      0\n",
       "Geography_Spain        0\n",
       "Gender_Male            0\n",
       "dtype: int64"
      ]
     },
     "execution_count": 7,
     "metadata": {},
     "output_type": "execute_result"
    }
   ],
   "source": [
    "df_ohe.isna().sum()"
   ]
  },
  {
   "cell_type": "markdown",
   "metadata": {},
   "source": [
    "Данные не содержат явных дубликатов, но в столбце `Tenure` содержится 9% пропусков. Обработать пропуски можно тремя способами:\n",
    "* удалить строки с пропусками (потеря 9% данных на фоне общего количества данных будет некритичной)\n",
    "* заменить пропуски нулями\n",
    "* заменить пропуски средним/медианным значением\n",
    "\n",
    "На данном этапе сложно предсказать, какой метод будет оптимальным с учетом дисбаланса классов, поэтому в качестве эксперимента подготовим все три варианта."
   ]
  },
  {
   "cell_type": "code",
   "execution_count": 8,
   "metadata": {},
   "outputs": [],
   "source": [
    "df_drop_na = df_ohe.dropna()\n",
    "df_zeros_na = df_ohe.fillna(0)\n",
    "df_median_na = df_ohe.fillna(df['Tenure'].median())"
   ]
  },
  {
   "cell_type": "code",
   "execution_count": 9,
   "metadata": {
    "scrolled": true
   },
   "outputs": [
    {
     "name": "stdout",
     "output_type": "stream",
     "text": [
      "<class 'pandas.core.frame.DataFrame'>\n",
      "Int64Index: 9091 entries, 1 to 9999\n",
      "Data columns (total 12 columns):\n",
      " #   Column             Non-Null Count  Dtype  \n",
      "---  ------             --------------  -----  \n",
      " 0   CreditScore        9091 non-null   int64  \n",
      " 1   Age                9091 non-null   int64  \n",
      " 2   Tenure             9091 non-null   Int64  \n",
      " 3   Balance            9091 non-null   float64\n",
      " 4   NumOfProducts      9091 non-null   int64  \n",
      " 5   HasCrCard          9091 non-null   int64  \n",
      " 6   IsActiveMember     9091 non-null   int64  \n",
      " 7   EstimatedSalary    9091 non-null   float64\n",
      " 8   Exited             9091 non-null   int64  \n",
      " 9   Geography_Germany  9091 non-null   uint8  \n",
      " 10  Geography_Spain    9091 non-null   uint8  \n",
      " 11  Gender_Male        9091 non-null   uint8  \n",
      "dtypes: Int64(1), float64(2), int64(6), uint8(3)\n",
      "memory usage: 745.7 KB\n",
      "<class 'pandas.core.frame.DataFrame'>\n",
      "Int64Index: 10000 entries, 1 to 10000\n",
      "Data columns (total 12 columns):\n",
      " #   Column             Non-Null Count  Dtype  \n",
      "---  ------             --------------  -----  \n",
      " 0   CreditScore        10000 non-null  int64  \n",
      " 1   Age                10000 non-null  int64  \n",
      " 2   Tenure             10000 non-null  Int64  \n",
      " 3   Balance            10000 non-null  float64\n",
      " 4   NumOfProducts      10000 non-null  int64  \n",
      " 5   HasCrCard          10000 non-null  int64  \n",
      " 6   IsActiveMember     10000 non-null  int64  \n",
      " 7   EstimatedSalary    10000 non-null  float64\n",
      " 8   Exited             10000 non-null  int64  \n",
      " 9   Geography_Germany  10000 non-null  uint8  \n",
      " 10  Geography_Spain    10000 non-null  uint8  \n",
      " 11  Gender_Male        10000 non-null  uint8  \n",
      "dtypes: Int64(1), float64(2), int64(6), uint8(3)\n",
      "memory usage: 820.3 KB\n",
      "<class 'pandas.core.frame.DataFrame'>\n",
      "Int64Index: 10000 entries, 1 to 10000\n",
      "Data columns (total 12 columns):\n",
      " #   Column             Non-Null Count  Dtype  \n",
      "---  ------             --------------  -----  \n",
      " 0   CreditScore        10000 non-null  int64  \n",
      " 1   Age                10000 non-null  int64  \n",
      " 2   Tenure             10000 non-null  Int64  \n",
      " 3   Balance            10000 non-null  float64\n",
      " 4   NumOfProducts      10000 non-null  int64  \n",
      " 5   HasCrCard          10000 non-null  int64  \n",
      " 6   IsActiveMember     10000 non-null  int64  \n",
      " 7   EstimatedSalary    10000 non-null  float64\n",
      " 8   Exited             10000 non-null  int64  \n",
      " 9   Geography_Germany  10000 non-null  uint8  \n",
      " 10  Geography_Spain    10000 non-null  uint8  \n",
      " 11  Gender_Male        10000 non-null  uint8  \n",
      "dtypes: Int64(1), float64(2), int64(6), uint8(3)\n",
      "memory usage: 820.3 KB\n"
     ]
    }
   ],
   "source": [
    "df_drop_na.info(), df_zeros_na.info(), df_median_na.info();"
   ]
  },
  {
   "cell_type": "markdown",
   "metadata": {},
   "source": [
    "**Вывод 1:** \n",
    "Для проведения исследования в нашем распоряжении данные о поведении 10000 клиентов банка: таблица признаков и целевой признак `Exited`.  \n",
    "Данные были подготовлены к исследованию: \n",
    "* произведена операция прямого кодирования категориальных признаков, \n",
    "* в столбце *Tenure* был изменён тип данных, \n",
    "* дубликатов и аномалий обнаружено не было. \n",
    "* Пропуски в столбце *Tenure* были обработаны тремя способами."
   ]
  },
  {
   "cell_type": "markdown",
   "metadata": {},
   "source": [
    "## Исследование задачи"
   ]
  },
  {
   "cell_type": "markdown",
   "metadata": {},
   "source": [
    "Проведём исследование баланса классов. Предварительно на этапе подготовки данных мы отметили, что положительный класс составляет 20% от общего количества данных целевого признака. Получим более точные значения для трёх выборок, полученных в результате обработки пропусков:"
   ]
  },
  {
   "cell_type": "code",
   "execution_count": 10,
   "metadata": {},
   "outputs": [
    {
     "name": "stdout",
     "output_type": "stream",
     "text": [
      "Баланс классов:\n",
      "Drop NA:\n",
      " 0    0.796062\n",
      "1    0.203938\n",
      "Name: Exited, dtype: float64\n",
      "Zeros NA:\n",
      " 0    0.7963\n",
      "1    0.2037\n",
      "Name: Exited, dtype: float64\n",
      "Median NA:\n",
      " 0    0.7963\n",
      "1    0.2037\n",
      "Name: Exited, dtype: float64\n"
     ]
    }
   ],
   "source": [
    "print(\"Баланс классов:\")\n",
    "print('Drop NA:\\n', df_drop_na['Exited'].value_counts(normalize=True))\n",
    "print('Zeros NA:\\n', df_zeros_na['Exited'].value_counts(normalize=True))\n",
    "print('Median NA:\\n', df_median_na['Exited'].value_counts(normalize=True))"
   ]
  },
  {
   "cell_type": "markdown",
   "metadata": {},
   "source": [
    "Итак, на трёх полученных выборках практически одинаковое соотношение классов: 79.6% объектов принадлежат отрицательному классу, 20.4% - положительному.  \n",
    "Выделим для каждой выборки признаки и целевой признак."
   ]
  },
  {
   "cell_type": "code",
   "execution_count": 11,
   "metadata": {},
   "outputs": [],
   "source": [
    "features_drop_na = df_drop_na.drop(['Exited'], axis=1) \n",
    "target_drop_na = df_drop_na['Exited']\n",
    "\n",
    "features_zeros_na = df_zeros_na.drop(['Exited'], axis=1) \n",
    "target_zeros_na = df_zeros_na['Exited']\n",
    "\n",
    "features_median_na = df_median_na.drop(['Exited'], axis=1) \n",
    "target_median_na = df_median_na['Exited']"
   ]
  },
  {
   "cell_type": "markdown",
   "metadata": {},
   "source": [
    "Поскольку нам предстоит работать с тремя выборками, напишем функцию, разделяющую данные на тестовую, обучающую и валидационную выборки, а также функцию для масштабирования численных признаков."
   ]
  },
  {
   "cell_type": "code",
   "execution_count": 12,
   "metadata": {},
   "outputs": [],
   "source": [
    "def split(features, target):\n",
    "    \"\"\"\n",
    "    Функция принимает на вход таблицу признаков features и столбец целевого признака target, \n",
    "    и возвращает тренировочную, валидационную и тестовую выборку для features и target в соотношении 3:1:1\n",
    "    \"\"\"\n",
    "    \n",
    "    # разледим выборку на две части: обучающую и тестовую\n",
    "    (features_train, features_test, \n",
    "     target_train, target_test) = train_test_split(features, \n",
    "                                                   target,\n",
    "                                                   stratify=target,\n",
    "                                                   test_size=.4,\n",
    "                                                   random_state=RANDOM_STATE)\n",
    "    # разделим тестовую часть пополам - выделим валидационную часть\n",
    "    (features_valid, features_test, \n",
    "     target_valid, target_test) = train_test_split(features_test, \n",
    "                                                   target_test, \n",
    "                                                   stratify=target_test,\n",
    "                                                   test_size=.5,\n",
    "                                                   random_state=RANDOM_STATE)\n",
    "    return (features_train, features_valid, features_test,\n",
    "           target_train, target_valid, target_test)"
   ]
  },
  {
   "cell_type": "code",
   "execution_count": 13,
   "metadata": {},
   "outputs": [],
   "source": [
    "# обозначим столбцы с численными признаками\n",
    "numeric = ['CreditScore', 'Age', \n",
    "           'Tenure', 'Balance', \n",
    "           'EstimatedSalary', 'NumOfProducts']"
   ]
  },
  {
   "cell_type": "markdown",
   "metadata": {},
   "source": [
    "Разделим каждую выборку на обучающую, валидационную и тестовую, а затем применим к таблице признаков масштабиование численных столбцов."
   ]
  },
  {
   "cell_type": "code",
   "execution_count": 15,
   "metadata": {},
   "outputs": [],
   "source": [
    "# Таблица drop_na\n",
    "\n",
    "(features_train_drop_na, \n",
    " features_valid_drop_na, \n",
    " features_test_drop_na,\n",
    " target_train_drop_na, \n",
    " target_valid_drop_na, \n",
    " target_test_drop_na) = split(features_drop_na, target_drop_na)\n",
    "\n",
    "\n",
    "scaler = StandardScaler()\n",
    "scaler.fit(features_train_drop_na[numeric])\n",
    "\n",
    "features_train_drop_na[numeric] = scaler.transform(features_train_drop_na[numeric])\n",
    "features_valid_drop_na[numeric] = scaler.transform(features_valid_drop_na[numeric])\n",
    "features_test_drop_na[numeric] = scaler.transform(features_test_drop_na[numeric])"
   ]
  },
  {
   "cell_type": "code",
   "execution_count": 16,
   "metadata": {},
   "outputs": [],
   "source": [
    "# Таблица zeros_na\n",
    "\n",
    "(features_train_zeros_na, \n",
    " features_valid_zeros_na, \n",
    " features_test_zeros_na,\n",
    " target_train_zeros_na, \n",
    " target_valid_zeros_na, \n",
    " target_test_zeros_na) = split(features_zeros_na, target_zeros_na)\n",
    "\n",
    "\n",
    "scaler = StandardScaler()\n",
    "scaler.fit(features_train_zeros_na[numeric])\n",
    "\n",
    "features_train_zeros_na[numeric] = scaler.transform(features_train_zeros_na[numeric])\n",
    "features_valid_zeros_na[numeric] = scaler.transform(features_valid_zeros_na[numeric])\n",
    "features_test_zeros_na[numeric] = scaler.transform(features_test_zeros_na[numeric])"
   ]
  },
  {
   "cell_type": "code",
   "execution_count": 17,
   "metadata": {},
   "outputs": [],
   "source": [
    "# Таблица median_na\n",
    "\n",
    "(features_train_median_na, \n",
    " features_valid_median_na, \n",
    " features_test_median_na,\n",
    " target_train_median_na, \n",
    " target_valid_median_na, \n",
    " target_test_median_na) = split(features_median_na, target_median_na)\n",
    "\n",
    "scaler = StandardScaler()\n",
    "scaler.fit(features_train_median_na[numeric])\n",
    "\n",
    "features_train_median_na[numeric] = scaler.transform(features_train_median_na[numeric])\n",
    "features_valid_median_na[numeric] = scaler.transform(features_valid_median_na[numeric])\n",
    "features_test_median_na[numeric] = scaler.transform(features_test_median_na[numeric])"
   ]
  },
  {
   "cell_type": "markdown",
   "metadata": {},
   "source": [
    "Напишем функции, обучающие модели решающего дерева, решающего леса и логистической регрессии и возвращающие значения f1_score, roc_auc_score, а также функцию, строющую график ROC-кривой."
   ]
  },
  {
   "cell_type": "code",
   "execution_count": 18,
   "metadata": {},
   "outputs": [],
   "source": [
    "def tree(features_train, target_train, features_valid, target_valid):\n",
    "    \"\"\"\n",
    "    Функция принимает на вход тренировочную и валидационную выборку, обучает модель решающего дерева \n",
    "    и возвращает зачения f1_score, roc_auc_score и вероятности положительного класса для валидационной выборки\n",
    "    \"\"\"\n",
    "    model = DecisionTreeClassifier(random_state=RANDOM_STATE)\n",
    "    model.fit(features_train, target_train)\n",
    "    predicted_valid = model.predict(features_valid)\n",
    "    \n",
    "    probabilities_valid = model.predict_proba(features_valid)\n",
    "    probabilities_one_valid = probabilities_valid[:, 1]\n",
    "    \n",
    "    \n",
    "    return (f1_score(target_valid, predicted_valid),\n",
    "            roc_auc_score(target_valid, probabilities_one_valid),\n",
    "            probabilities_one_valid)"
   ]
  },
  {
   "cell_type": "code",
   "execution_count": 19,
   "metadata": {},
   "outputs": [],
   "source": [
    "def forest(features_train, target_train, features_valid, target_valid):\n",
    "    \"\"\"\n",
    "    Функция принимает на вход тренировочную и валидационную выборку, обучает модель решающего леса \n",
    "    и возвращает зачения f1_score, roc_auc_score и вероятности положительного класса для валидационной выборки\n",
    "    \"\"\"\n",
    "    model = RandomForestClassifier(random_state=RANDOM_STATE)\n",
    "    model.fit(features_train, target_train)\n",
    "    predicted_valid = model.predict(features_valid)\n",
    "    \n",
    "    probabilities_valid = model.predict_proba(features_valid)\n",
    "    probabilities_one_valid = probabilities_valid[:, 1]\n",
    "    \n",
    "    \n",
    "    return (f1_score(target_valid, predicted_valid),\n",
    "            roc_auc_score(target_valid, probabilities_one_valid),\n",
    "            probabilities_one_valid)"
   ]
  },
  {
   "cell_type": "code",
   "execution_count": 20,
   "metadata": {},
   "outputs": [],
   "source": [
    "def log_reg(features_train, target_train, features_valid, target_valid):\n",
    "    \"\"\"\n",
    "    Функция принимает на вход тренировочную и валидационную выборку, обучает модель логистической регрессии \n",
    "    и возвращает зачения f1_score, roc_auc_score и вероятности положительного класса для валидационной выборки\n",
    "    \"\"\"\n",
    "    model = LogisticRegression(random_state=RANDOM_STATE, solver='liblinear')\n",
    "    model.fit(features_train, target_train)\n",
    "    predicted_valid = model.predict(features_valid)\n",
    "\n",
    "    probabilities_valid = model.predict_proba(features_valid)\n",
    "    probabilities_one_valid = probabilities_valid[:, 1]\n",
    "    \n",
    "    \n",
    "    return (f1_score(target_valid, predicted_valid),\n",
    "            roc_auc_score(target_valid, probabilities_one_valid),\n",
    "            probabilities_one_valid)"
   ]
  },
  {
   "cell_type": "code",
   "execution_count": 21,
   "metadata": {},
   "outputs": [],
   "source": [
    "def roc_plot(target_valid, probabilities_one_valid):\n",
    "    \"\"\"\n",
    "    Функция принимает на вход валидационный столбец целевого признака и вероятности положительного класса,\n",
    "    предсказанные для валидационной выборки, и возвращает график ROC - кривой.\n",
    "    \"\"\"\n",
    "    fpr, tpr, thresholds = roc_curve(target_valid, probabilities_one_valid)\n",
    "\n",
    "    plt.figure()\n",
    "    plt.plot(fpr, tpr)\n",
    "\n",
    "    # ROC-кривая случайной модели (выглядит как прямая)\n",
    "    plt.plot([0, 1], [0, 1], linestyle='--')\n",
    "\n",
    "    #   установим границы осей от 0 до 1 >\n",
    "    plt.xlim([0.0, 1.0])\n",
    "    plt.ylim([0.0, 1.0])\n",
    "    \n",
    "    #   подпишем оси\n",
    "    plt.xlabel(\"False Positive Rate\") \n",
    "    plt.ylabel(\"True Positive Rate\")\n",
    "\n",
    "    # добавим к графику заголовок\n",
    "    plt.title(\"ROC-кривая\")\n",
    "    return plt.show()"
   ]
  },
  {
   "cell_type": "markdown",
   "metadata": {},
   "source": [
    "Обучим модель **решающего дерева** на трёх выборках."
   ]
  },
  {
   "cell_type": "code",
   "execution_count": 22,
   "metadata": {},
   "outputs": [
    {
     "data": {
      "image/png": "[encoded data removed]",
      "text/plain": [
       "<Figure size 432x288 with 1 Axes>"
      ]
     },
     "metadata": {
      "needs_background": "light"
     },
     "output_type": "display_data"
    },
    {
     "name": "stdout",
     "output_type": "stream",
     "text": [
      "Drop NA:\n",
      "F1_score: 0.4919786096256685 \n",
      "AUC_ROC: 0.6812887338242334\n"
     ]
    }
   ],
   "source": [
    "f1_score_drop_na, auc_roc_drop_na, probabilities_one_valid_drop_na =  tree(features_train_drop_na,\n",
    "                                                          target_train_drop_na, \n",
    "                                                          features_valid_drop_na, \n",
    "                                                          target_valid_drop_na)\n",
    "roc_plot(target_valid_drop_na, probabilities_one_valid_drop_na)\n",
    "print('Drop NA:\\nF1_score:', f1_score_drop_na,'\\nAUC_ROC:', auc_roc_drop_na)"
   ]
  },
  {
   "cell_type": "code",
   "execution_count": 23,
   "metadata": {},
   "outputs": [
    {
     "data": {
      "image/png": "[encoded data removed]",
      "text/plain": [
       "<Figure size 432x288 with 1 Axes>"
      ]
     },
     "metadata": {
      "needs_background": "light"
     },
     "output_type": "display_data"
    },
    {
     "name": "stdout",
     "output_type": "stream",
     "text": [
      "Zeros NA:\n",
      "F1_score: 0.5047169811320754 \n",
      "AUC_ROC: 0.6912750024632969\n"
     ]
    }
   ],
   "source": [
    "f1_score_zeros_na, auc_roc_zeros_na, probabilities_one_valid_zeros_na =  tree(features_train_zeros_na,\n",
    "                                                          target_train_zeros_na, \n",
    "                                                          features_valid_zeros_na, \n",
    "                                                          target_valid_zeros_na)\n",
    "roc_plot(target_valid_zeros_na, probabilities_one_valid_zeros_na)\n",
    "print('Zeros NA:\\nF1_score:', f1_score_zeros_na,'\\nAUC_ROC:', auc_roc_zeros_na)"
   ]
  },
  {
   "cell_type": "code",
   "execution_count": 24,
   "metadata": {},
   "outputs": [
    {
     "data": {
      "image/png": "[encoded data removed]",
      "text/plain": [
       "<Figure size 432x288 with 1 Axes>"
      ]
     },
     "metadata": {
      "needs_background": "light"
     },
     "output_type": "display_data"
    },
    {
     "name": "stdout",
     "output_type": "stream",
     "text": [
      "Median NA:\n",
      "F1_score: 0.5035971223021583 \n",
      "AUC_ROC: 0.6895137451965709\n"
     ]
    }
   ],
   "source": [
    "f1_score_median_na, auc_roc_median_na, probabilities_one_valid_median_na =  tree(features_train_median_na,\n",
    "                                                          target_train_median_na, \n",
    "                                                          features_valid_median_na, \n",
    "                                                          target_valid_median_na)\n",
    "roc_plot(target_valid_median_na, probabilities_one_valid_median_na)\n",
    "print('Median NA:\\nF1_score:', f1_score_median_na,'\\nAUC_ROC:', auc_roc_median_na)"
   ]
  },
  {
   "cell_type": "markdown",
   "metadata": {},
   "source": [
    "При дисбалансе выборок на модели решающего дерева для всех трёх выборок значение метрики F1 колеблется в диапазоне 0.49-0.5\n",
    "0, а значение площади под ROC-кривой составляет 0.68-0.69. При этом, минимальные значения этих показателей наблюдаются для выборки Drop NA, в которой выброшены строчки с пропусками в столбце *Tenure*.\n",
    "\n",
    "Обучим модель **решающего леса** на трёх выборках."
   ]
  },
  {
   "cell_type": "code",
   "execution_count": 25,
   "metadata": {},
   "outputs": [
    {
     "data": {
      "image/png": "[encoded data removed]",
      "text/plain": [
       "<Figure size 432x288 with 1 Axes>"
      ]
     },
     "metadata": {
      "needs_background": "light"
     },
     "output_type": "display_data"
    },
    {
     "name": "stdout",
     "output_type": "stream",
     "text": [
      "Drop NA:\n",
      "F1_score: 0.5957446808510638 \n",
      "AUC_ROC: 0.8698739095852186\n"
     ]
    }
   ],
   "source": [
    "f1_score_drop_na, auc_roc_drop_na, probabilities_one_valid_drop_na =  forest(features_train_drop_na,\n",
    "                                                          target_train_drop_na, \n",
    "                                                          features_valid_drop_na, \n",
    "                                                          target_valid_drop_na)\n",
    "roc_plot(target_valid_drop_na, probabilities_one_valid_drop_na)\n",
    "print('Drop NA:\\nF1_score:', f1_score_drop_na,'\\nAUC_ROC:', auc_roc_drop_na)"
   ]
  },
  {
   "cell_type": "code",
   "execution_count": 26,
   "metadata": {},
   "outputs": [
    {
     "data": {
      "image/png": "[encoded data removed]",
      "text/plain": [
       "<Figure size 432x288 with 1 Axes>"
      ]
     },
     "metadata": {
      "needs_background": "light"
     },
     "output_type": "display_data"
    },
    {
     "name": "stdout",
     "output_type": "stream",
     "text": [
      "Zeros NA:\n",
      "F1_score: 0.6103703703703703 \n",
      "AUC_ROC: 0.8665770642427826\n"
     ]
    }
   ],
   "source": [
    "f1_score_zeros_na, auc_roc_zeros_na, probabilities_one_valid_zeros_na =  forest(features_train_zeros_na,\n",
    "                                                          target_train_zeros_na, \n",
    "                                                          features_valid_zeros_na, \n",
    "                                                          target_valid_zeros_na)\n",
    "roc_plot(target_valid_zeros_na, probabilities_one_valid_zeros_na)\n",
    "print('Zeros NA:\\nF1_score:', f1_score_zeros_na,'\\nAUC_ROC:', auc_roc_zeros_na)"
   ]
  },
  {
   "cell_type": "code",
   "execution_count": 27,
   "metadata": {},
   "outputs": [
    {
     "data": {
      "image/png": "[encoded data removed]",
      "text/plain": [
       "<Figure size 432x288 with 1 Axes>"
      ]
     },
     "metadata": {
      "needs_background": "light"
     },
     "output_type": "display_data"
    },
    {
     "name": "stdout",
     "output_type": "stream",
     "text": [
      "Median NA:\n",
      "F1_score: 0.6126656848306332 \n",
      "AUC_ROC: 0.8623956177948565\n"
     ]
    }
   ],
   "source": [
    "f1_score_median_na, auc_roc_median_na, probabilities_one_valid_median_na =  forest(features_train_median_na,\n",
    "                                                          target_train_median_na, \n",
    "                                                          features_valid_median_na, \n",
    "                                                          target_valid_median_na)\n",
    "roc_plot(target_valid_median_na, probabilities_one_valid_median_na)\n",
    "print('Median NA:\\nF1_score:', f1_score_median_na,'\\nAUC_ROC:', auc_roc_median_na)"
   ]
  },
  {
   "cell_type": "markdown",
   "metadata": {},
   "source": [
    "При дисбалансе выборок на модели решающего леса для всех трёх выборок значение метрики F1 колеблется в диапазоне 0.59-0.61, а значение AUC_ROC составляет 0.86-0.87. При этом, аналогично, минимальные значения этих показателей наблюдаются для выборки Drop NA, в которой выброшены строчки с пропусками в столбце *Tenure*.\n",
    "\n",
    "Обучим модель **логистической регрессии** на трёх выборках."
   ]
  },
  {
   "cell_type": "code",
   "execution_count": 28,
   "metadata": {},
   "outputs": [
    {
     "data": {
      "image/png": "[encoded data removed]",
      "text/plain": [
       "<Figure size 432x288 with 1 Axes>"
      ]
     },
     "metadata": {
      "needs_background": "light"
     },
     "output_type": "display_data"
    },
    {
     "name": "stdout",
     "output_type": "stream",
     "text": [
      "Drop NA:\n",
      "F1_score: 0.3306772908366534 \n",
      "AUC_ROC: 0.7893010355098474\n"
     ]
    }
   ],
   "source": [
    "f1_score_drop_na, auc_roc_drop_na, probabilities_one_valid_drop_na =  log_reg(features_train_drop_na,\n",
    "                                                          target_train_drop_na, \n",
    "                                                          features_valid_drop_na, \n",
    "                                                          target_valid_drop_na)\n",
    "roc_plot(target_valid_drop_na, probabilities_one_valid_drop_na)\n",
    "print('Drop NA:\\nF1_score:', f1_score_drop_na,'\\nAUC_ROC:', auc_roc_drop_na)"
   ]
  },
  {
   "cell_type": "code",
   "execution_count": 29,
   "metadata": {},
   "outputs": [
    {
     "data": {
      "image/png": "[encoded data removed]",
      "text/plain": [
       "<Figure size 432x288 with 1 Axes>"
      ]
     },
     "metadata": {
      "needs_background": "light"
     },
     "output_type": "display_data"
    },
    {
     "name": "stdout",
     "output_type": "stream",
     "text": [
      "Zeros NA:\n",
      "F1_score: 0.3076923076923077 \n",
      "AUC_ROC: 0.787586831214898\n"
     ]
    }
   ],
   "source": [
    "f1_score_zeros_na, auc_roc_zeros_na, probabilities_one_valid_zeros_na =  log_reg(features_train_zeros_na,\n",
    "                                                          target_train_zeros_na, \n",
    "                                                          features_valid_zeros_na, \n",
    "                                                          target_valid_zeros_na)\n",
    "roc_plot(target_valid_zeros_na, probabilities_one_valid_zeros_na)\n",
    "print('Zeros NA:\\nF1_score:', f1_score_zeros_na,'\\nAUC_ROC:', auc_roc_zeros_na)"
   ]
  },
  {
   "cell_type": "code",
   "execution_count": 30,
   "metadata": {},
   "outputs": [
    {
     "data": {
      "image/png": "[encoded data removed]",
      "text/plain": [
       "<Figure size 432x288 with 1 Axes>"
      ]
     },
     "metadata": {
      "needs_background": "light"
     },
     "output_type": "display_data"
    },
    {
     "name": "stdout",
     "output_type": "stream",
     "text": [
      "Median NA:\n",
      "F1_score: 0.3076923076923077 \n",
      "AUC_ROC: 0.7875052345058627\n"
     ]
    }
   ],
   "source": [
    "f1_score_median_na, auc_roc_median_na, probabilities_one_valid_median_na =  log_reg(features_train_median_na,\n",
    "                                                          target_train_median_na, \n",
    "                                                          features_valid_median_na, \n",
    "                                                          target_valid_median_na)\n",
    "roc_plot(target_valid_median_na, probabilities_one_valid_median_na)\n",
    "print('Median NA:\\nF1_score:', f1_score_median_na,'\\nAUC_ROC:', auc_roc_median_na)"
   ]
  },
  {
   "cell_type": "markdown",
   "metadata": {},
   "source": [
    "Для трёх выборок значение метрики F1 колеблется в диапазоне 0.30-0.33, а значение AUC_ROC составляет 0.78-0.79. При этом, аналогично, минимальные значения этих показателей наблюдаются для выборок Zeros NA, Median NA."
   ]
  },
  {
   "cell_type": "markdown",
   "metadata": {},
   "source": [
    "**Вывод 2:**  \n",
    "* Было приведено исследование баланса классов: на трёх полученных в результате обработки пропусков выборках практически одинаковое соотношение классов: 79.6% объектов принадлежат отрицательному классу, 20.4% - положительному.\n",
    "* Для трёх выборок без учета дисбаланса классов были исследованы модели решающего дерева, решающего леса и логистической регрессии: максимальное значение метрики F1 составляет 0.62 и было получено при обучении модели решающего леса на выборке *Median NA*; максимальное значение AUC_ROC было получено, аналогично, при обучении модели решающего леса на выборке *Zeros NA* и составляет 0.87.\n",
    "* Поскольку для всех выборок результаты обучения той или иной модели не сильно отличаются, в дальнейшем будем работать только с одной выборкой *Median NA*."
   ]
  },
  {
   "cell_type": "markdown",
   "metadata": {},
   "source": [
    "## Борьба с дисбалансом"
   ]
  },
  {
   "cell_type": "markdown",
   "metadata": {},
   "source": [
    "Рассмотрим три способа борьбы с дисбалансом классов:\n",
    "* Взвешивание классов\n",
    "* Upsampling\n",
    "* Downsampling\n",
    "\n",
    "Первый метод реализуется с помощью аргумента `class_weight='balanced'` в алгоритме машинного обучения. Для методов *upsampling* и *downsampling* предварительно напишем функции и подготовим данные."
   ]
  },
  {
   "cell_type": "code",
   "execution_count": 31,
   "metadata": {},
   "outputs": [],
   "source": [
    "def upsample(features, target, repeat):\n",
    "    \"\"\"\n",
    "    Функция увеличения выборки, принимающая на вход таблицу признаков, столбец\n",
    "    целевого признака и количество повторений объектов положительного класса.\n",
    "    Функция возвращает преобразованные таблицу признаков и столбец целевого признака.\n",
    "    \"\"\"\n",
    "    features_zeros = features[target == 0]\n",
    "    features_ones = features[target == 1]\n",
    "    target_zeros = target[target == 0]\n",
    "    target_ones = target[target == 1]\n",
    "\n",
    "    features_upsampled = pd.concat([features_zeros] + [features_ones] * repeat)\n",
    "    target_upsampled = pd.concat([target_zeros] + [target_ones] * repeat)\n",
    "    \n",
    "    features_upsampled, target_upsampled = shuffle(features_upsampled, \n",
    "                                                   target_upsampled, \n",
    "                                                   random_state=RANDOM_STATE)\n",
    "    \n",
    "    return features_upsampled, target_upsampled\n"
   ]
  },
  {
   "cell_type": "code",
   "execution_count": 32,
   "metadata": {},
   "outputs": [],
   "source": [
    "def downsample(features, target, fraction):\n",
    "    \"\"\"\n",
    "    Функция уменьшения выборки, принимающая на вход таблицу признаков, столбец\n",
    "    целевого признака и долю объектов отрицательного класса от исходной таблицы.\n",
    "    Функция возвращает преобразованные таблицу признаков и столбец целевого признака.\n",
    "    \"\"\"\n",
    "    features_zeros = features[target == 0]\n",
    "    features_ones = features[target == 1]\n",
    "    target_zeros = target[target == 0]\n",
    "    target_ones = target[target == 1]\n",
    "\n",
    "    features_downsampled = pd.concat(\n",
    "        [features_zeros.sample(frac=fraction, random_state=RANDOM_STATE)]\n",
    "        + [features_ones])\n",
    "    target_downsampled = pd.concat(\n",
    "        [target_zeros.sample(frac=fraction, random_state=RANDOM_STATE)]\n",
    "        + [target_ones])\n",
    "    features_downsampled, target_downsampled = shuffle(features_downsampled, \n",
    "                                                       target_downsampled, \n",
    "                                                       random_state=RANDOM_STATE)\n",
    "    \n",
    "    return features_downsampled, target_downsampled"
   ]
  },
  {
   "cell_type": "markdown",
   "metadata": {},
   "source": [
    "Определим количество повторений объекта положительного класса для метода *Upsampling* и долю объектов отрицательного класса, которую случайным образом предстоит выбрать в методе *Downsampling*."
   ]
  },
  {
   "cell_type": "code",
   "execution_count": 33,
   "metadata": {},
   "outputs": [
    {
     "data": {
      "text/plain": [
       "(4, 0.25575554625366265)"
      ]
     },
     "execution_count": 33,
     "metadata": {},
     "output_type": "execute_result"
    }
   ],
   "source": [
    "# Определим количество объектов обоих классов\n",
    "zeros_len = len(target_train_median_na[target_train_median_na == 0])\n",
    "ones_len = len(target_train_median_na[target_train_median_na == 1])\n",
    "\n",
    "# определим количество повторов и долю для наших функций\n",
    "repeat = int(np.ceil(zeros_len / ones_len))\n",
    "fraction = ones_len / zeros_len\n",
    "# Выведем на экран\n",
    "repeat, fraction"
   ]
  },
  {
   "cell_type": "markdown",
   "metadata": {},
   "source": [
    "**Upsampling**  \n",
    "Произведём операцию увеличения обучающей выборки:"
   ]
  },
  {
   "cell_type": "code",
   "execution_count": 34,
   "metadata": {},
   "outputs": [
    {
     "data": {
      "text/plain": [
       "((9666, 11),\n",
       " (9666,),\n",
       " 1    0.50569\n",
       " 0    0.49431\n",
       " Name: Exited, dtype: float64)"
      ]
     },
     "execution_count": 34,
     "metadata": {},
     "output_type": "execute_result"
    }
   ],
   "source": [
    "features_train_up, target_train_up = upsample(features_train_median_na,\n",
    "                                              target_train_median_na,\n",
    "                                              repeat)\n",
    "# выведем на экран размеры полученных выборок и число объектов каждого класса\n",
    "features_train_up.shape, target_train_up.shape,  target_train_up.value_counts(normalize=True)"
   ]
  },
  {
   "cell_type": "markdown",
   "metadata": {},
   "source": [
    "Итак, количество объектов обоих классов примерно одинаково, а тренировочная выборка увеличилась - преобразование произошло успешно.\n",
    "\n",
    "**Downsampling**\n",
    "Подготовим обучающую выборку методом уменьшения."
   ]
  },
  {
   "cell_type": "code",
   "execution_count": 35,
   "metadata": {},
   "outputs": [
    {
     "data": {
      "text/plain": [
       "((2444, 11),\n",
       " (2444,),\n",
       " 0    0.5\n",
       " 1    0.5\n",
       " Name: Exited, dtype: float64)"
      ]
     },
     "execution_count": 35,
     "metadata": {},
     "output_type": "execute_result"
    }
   ],
   "source": [
    "features_train_down, target_train_down = downsample(features_train_median_na,\n",
    "                                              target_train_median_na,\n",
    "                                              fraction)\n",
    "# выведем на экран размеры полученных выборок и число объектов каждого класса\n",
    "features_train_down.shape, target_train_down.shape,  target_train_down.value_counts(normalize=True)"
   ]
  },
  {
   "cell_type": "markdown",
   "metadata": {},
   "source": [
    "Размер выборки уменьшился, а количество объектов обоих классов стало одинаковым.  \n",
    "\n",
    "Перейдём к обучению различных моделей на сбалансированных выборках."
   ]
  },
  {
   "cell_type": "markdown",
   "metadata": {},
   "source": [
    "### Решающее дерево\n",
    "\n",
    "Рассмотрим модель решающего дерева при разных значениях глубины дерева (от 1 до 10) и выберем глубину, позволяющую достичь максимального значения доли правильных предсказаний модели для трёх рассмотренных случаев борьбы с дисбалансом классов.\n",
    "\n",
    "**Решающее дерево и взвешивание классов**"
   ]
  },
  {
   "cell_type": "code",
   "execution_count": 36,
   "metadata": {},
   "outputs": [
    {
     "name": "stdout",
     "output_type": "stream",
     "text": [
      "Взвешивание классов \n",
      "F1-score лучшей модели решающего дерева: 0.576 \n",
      "AUC_ROC лучшей модели решающего дерева: 0.823 \n",
      "Максимальная глубина: 6\n"
     ]
    },
    {
     "data": {
      "image/png": "[encoded data removed]",
      "text/plain": [
       "<Figure size 432x288 with 1 Axes>"
      ]
     },
     "metadata": {
      "needs_background": "light"
     },
     "output_type": "display_data"
    }
   ],
   "source": [
    "best_model_tree = None\n",
    "best_f1_tree = 0\n",
    "best_depth = 1\n",
    "\n",
    "for depth in range(1, 11):\n",
    "    model = DecisionTreeClassifier(random_state=RANDOM_STATE, max_depth=depth, class_weight='balanced') \n",
    "    model.fit(features_train_median_na, target_train_median_na) # обучаем модель на обучающей выборке\n",
    "    predictions_valid = model.predict(features_valid_median_na) # получим предсказания модели на валидационной выборке\n",
    "    f1 = f1_score(target_valid_median_na, predictions_valid) # посчитаем качество модели на валидационной выборке\n",
    "    \n",
    "    \n",
    "    if f1 > best_f1_tree:\n",
    "        best_model_tree = model\n",
    "        best_depth = depth\n",
    "        best_f1_tree = f1\n",
    "        probabilities_valid = model.predict_proba(features_valid_median_na)\n",
    "        probabilities_one_valid_weight = probabilities_valid[:, 1]\n",
    "        auc_roc = roc_auc_score(target_valid_median_na, probabilities_one_valid_weight)\n",
    "        \n",
    "print(\"Взвешивание классов\",\n",
    "      \"\\nF1-score лучшей модели решающего дерева:\", best_f1_tree.round(3),\n",
    "      \"\\nAUC_ROC лучшей модели решающего дерева:\", auc_roc.round(3),\n",
    "      \"\\nМаксимальная глубина:\", best_depth)\n",
    "roc_plot(target_valid_median_na, probabilities_one_valid_weight)"
   ]
  },
  {
   "cell_type": "markdown",
   "metadata": {},
   "source": [
    "**Решающее дерево и Upsampling**"
   ]
  },
  {
   "cell_type": "code",
   "execution_count": 37,
   "metadata": {},
   "outputs": [
    {
     "name": "stdout",
     "output_type": "stream",
     "text": [
      "Upsampling \n",
      "F1-score лучшей модели решающего дерева: 0.576 \n",
      "AUC_ROC лучшей модели решающего дерева: 0.823 \n",
      "Максимальная глубина: 6\n"
     ]
    },
    {
     "data": {
      "image/png": "[encoded data removed]",
      "text/plain": [
       "<Figure size 432x288 with 1 Axes>"
      ]
     },
     "metadata": {
      "needs_background": "light"
     },
     "output_type": "display_data"
    }
   ],
   "source": [
    "best_model_tree = None\n",
    "best_f1_tree = 0\n",
    "best_depth = 1\n",
    "\n",
    "for depth in range(1, 11):\n",
    "    model = DecisionTreeClassifier(random_state=RANDOM_STATE, max_depth=depth) \n",
    "    model.fit(features_train_up, target_train_up) # обучаем модель на обучающей выборке\n",
    "    predictions_valid = model.predict(features_valid_median_na) # получим предсказания модели на валидационной выборке\n",
    "    f1 = f1_score(target_valid_median_na, predictions_valid) # посчитаем качество модели на валидационной выборке\n",
    "    \n",
    "    \n",
    "    if f1 > best_f1_tree:\n",
    "        best_model_tree = model\n",
    "        best_depth = depth\n",
    "        best_f1_tree = f1\n",
    "        probabilities_valid = model.predict_proba(features_valid_median_na)\n",
    "        probabilities_one_valid_up = probabilities_valid[:, 1]\n",
    "        auc_roc = roc_auc_score(target_valid_median_na, probabilities_one_valid_up)\n",
    "        \n",
    "print(\"Upsampling\",\n",
    "      \"\\nF1-score лучшей модели решающего дерева:\", best_f1_tree.round(3),\n",
    "      \"\\nAUC_ROC лучшей модели решающего дерева:\", auc_roc.round(3),\n",
    "      \"\\nМаксимальная глубина:\", best_depth)\n",
    "roc_plot(target_valid_median_na, probabilities_one_valid_up)"
   ]
  },
  {
   "cell_type": "markdown",
   "metadata": {},
   "source": [
    "**Решающее дерево и Downsampling**"
   ]
  },
  {
   "cell_type": "code",
   "execution_count": 38,
   "metadata": {},
   "outputs": [
    {
     "name": "stdout",
     "output_type": "stream",
     "text": [
      "Downsampling \n",
      "F1-score лучшей модели решающего дерева: 0.598 \n",
      "AUC_ROC лучшей модели решающего дерева: 0.853 \n",
      "Максимальная глубина: 6\n"
     ]
    },
    {
     "data": {
      "image/png": "[encoded data removed]",
      "text/plain": [
       "<Figure size 432x288 with 1 Axes>"
      ]
     },
     "metadata": {
      "needs_background": "light"
     },
     "output_type": "display_data"
    }
   ],
   "source": [
    "best_model_tree = None\n",
    "best_f1_tree = 0\n",
    "best_depth = 1\n",
    "\n",
    "for depth in range(1, 11):\n",
    "    model = DecisionTreeClassifier(random_state=RANDOM_STATE, max_depth=depth) \n",
    "    model.fit(features_train_down, target_train_down) # обучаем модель на обучающей выборке\n",
    "    predictions_valid = model.predict(features_valid_median_na) # получим предсказания модели на валидационной выборке\n",
    "    f1 = f1_score(target_valid_median_na, predictions_valid) # посчитаем качество модели на валидационной выборке\n",
    "    \n",
    "    \n",
    "    if f1 > best_f1_tree:\n",
    "        best_model_tree = model\n",
    "        best_depth = depth\n",
    "        best_f1_tree = f1\n",
    "        probabilities_valid = model.predict_proba(features_valid_median_na)\n",
    "        probabilities_one_valid_down = probabilities_valid[:, 1]\n",
    "        auc_roc = roc_auc_score(target_valid_median_na, probabilities_one_valid_down)\n",
    "        \n",
    "print(\"Downsampling\",\n",
    "      \"\\nF1-score лучшей модели решающего дерева:\", best_f1_tree.round(3),\n",
    "      \"\\nAUC_ROC лучшей модели решающего дерева:\", auc_roc.round(3),\n",
    "      \"\\nМаксимальная глубина:\", best_depth)\n",
    "roc_plot(target_valid_median_na, probabilities_one_valid_down)"
   ]
  },
  {
   "cell_type": "markdown",
   "metadata": {},
   "source": [
    "Максимальные показатели F1-меры (0.6) удалось досчить при обучении решающего дерева на выборках, сбалансированных по техникам upsampling и downsampling, однако максимальная площадь под ROC-кривой (0.852) получена при методе downsampling и глубине дерева, равной 6."
   ]
  },
  {
   "cell_type": "markdown",
   "metadata": {},
   "source": [
    "### Решающий лес\n",
    "\n",
    "Рассмотрим следующую модель - решающий лес. Будем менять количество деревьев от 10 до 50 с шагом в 5 деревьев, а также максимальную глубину этих деревьев, чтобы определить оптимальные гиперпараметры для получения наибольшего значения точности предсказаний модели.\n",
    "\n",
    "**Решающий лес и взвешивание классов**"
   ]
  },
  {
   "cell_type": "code",
   "execution_count": 39,
   "metadata": {},
   "outputs": [
    {
     "name": "stdout",
     "output_type": "stream",
     "text": [
      "Взвешивание классов \n",
      "F1-score лучшей модели решающего леса: 0.65 \n",
      "AUC_ROC лучшей модели решающего леса: 0.87 \n",
      "Максимальная глубина: 10 \n",
      "Количество деревьев: 30\n"
     ]
    },
    {
     "data": {
      "image/png": "[encoded data removed]",
      "text/plain": [
       "<Figure size 432x288 with 1 Axes>"
      ]
     },
     "metadata": {
      "needs_background": "light"
     },
     "output_type": "display_data"
    },
    {
     "name": "stdout",
     "output_type": "stream",
     "text": [
      "Wall time: 12.4 s\n"
     ]
    }
   ],
   "source": [
    "%%time\n",
    "\n",
    "best_model_forest = None\n",
    "best_f1_forest = 0\n",
    "best_est = 0\n",
    "best_depth = 0\n",
    "\n",
    "for est in range(10, 51, 5): # меняем количество деревьев\n",
    "    for depth in range (1, 11): # меняем максимальную глубину деревьев\n",
    "        model = RandomForestClassifier(random_state=RANDOM_STATE, n_estimators=est, max_depth=depth, class_weight='balanced')\n",
    "        model.fit(features_train_median_na, target_train_median_na) # обучаем модель на обучающей выборке\n",
    "        predictions_valid = model.predict(features_valid_median_na) # получим предсказания модели на валидационной выборке\n",
    "        f1 = f1_score(target_valid_median_na, predictions_valid) # посчитаем качество модели на валидационной выборке\n",
    "        \n",
    "        if f1 > best_f1_forest:\n",
    "            best_model_forest = model\n",
    "            best_est = est\n",
    "            best_depth = depth\n",
    "            best_f1_forest = f1\n",
    "            probabilities_valid = model.predict_proba(features_valid_median_na)\n",
    "            probabilities_one_valid_weight = probabilities_valid[:, 1]\n",
    "            auc_roc = roc_auc_score(target_valid_median_na, probabilities_one_valid_weight)\n",
    "        \n",
    "print(\"Взвешивание классов\",\n",
    "      \"\\nF1-score лучшей модели решающего леса:\", best_f1_forest.round(3),\n",
    "      \"\\nAUC_ROC лучшей модели решающего леса:\", auc_roc.round(3),\n",
    "      \"\\nМаксимальная глубина:\", best_depth,\n",
    "      \"\\nКоличество деревьев:\", best_est,)\n",
    "roc_plot(target_valid_median_na, probabilities_one_valid_weight)"
   ]
  },
  {
   "cell_type": "markdown",
   "metadata": {},
   "source": [
    "**Решающий лес и Upsampling**"
   ]
  },
  {
   "cell_type": "code",
   "execution_count": 40,
   "metadata": {},
   "outputs": [
    {
     "name": "stdout",
     "output_type": "stream",
     "text": [
      "Upsampling \n",
      "F1-score лучшей модели решающего леса: 0.651 \n",
      "AUC_ROC лучшей модели решающего леса: 0.866 \n",
      "Максимальная глубина: 10 \n",
      "Количество деревьев: 30\n"
     ]
    },
    {
     "data": {
      "image/png": "[encoded data removed]",
      "text/plain": [
       "<Figure size 432x288 with 1 Axes>"
      ]
     },
     "metadata": {
      "needs_background": "light"
     },
     "output_type": "display_data"
    },
    {
     "name": "stdout",
     "output_type": "stream",
     "text": [
      "Wall time: 16.7 s\n"
     ]
    }
   ],
   "source": [
    "%%time\n",
    "\n",
    "best_model_forest = None\n",
    "best_f1_forest = 0\n",
    "best_est = 0\n",
    "best_depth = 0\n",
    "\n",
    "for est in range(10, 51, 5): # меняем количество деревьев\n",
    "    for depth in range (1, 11): # меняем максимальную глубину деревьев\n",
    "        model = RandomForestClassifier(random_state=RANDOM_STATE, n_estimators=est, max_depth=depth)\n",
    "        model.fit(features_train_up, target_train_up) # обучаем модель на обучающей выборке\n",
    "        predictions_valid = model.predict(features_valid_median_na) # получим предсказания модели на валидационной выборке\n",
    "        f1 = f1_score(target_valid_median_na, predictions_valid) # посчитаем качество модели на валидационной выборке\n",
    "        \n",
    "        if f1 > best_f1_forest:\n",
    "            best_model_forest = model\n",
    "            best_est = est\n",
    "            best_depth = depth\n",
    "            best_f1_forest = f1\n",
    "            probabilities_valid = model.predict_proba(features_valid_median_na)\n",
    "            probabilities_one_valid_up = probabilities_valid[:, 1]\n",
    "            auc_roc = roc_auc_score(target_valid_median_na, probabilities_one_valid_up)\n",
    "        \n",
    "print(\"Upsampling\",\n",
    "      \"\\nF1-score лучшей модели решающего леса:\", best_f1_forest.round(3),\n",
    "      \"\\nAUC_ROC лучшей модели решающего леса:\", auc_roc.round(3),\n",
    "      \"\\nМаксимальная глубина:\", best_depth,\n",
    "      \"\\nКоличество деревьев:\", best_est,)\n",
    "roc_plot(target_valid_median_na, probabilities_one_valid_up)"
   ]
  },
  {
   "cell_type": "markdown",
   "metadata": {},
   "source": [
    "**Решающий лес и Downsampling**"
   ]
  },
  {
   "cell_type": "code",
   "execution_count": 41,
   "metadata": {},
   "outputs": [
    {
     "name": "stdout",
     "output_type": "stream",
     "text": [
      "Downsampling \n",
      "F1-score лучшей модели решающего леса: 0.632 \n",
      "AUC_ROC лучшей модели решающего леса: 0.867 \n",
      "Максимальная глубина: 8 \n",
      "Количество деревьев: 45\n"
     ]
    },
    {
     "data": {
      "image/png": "[encoded data removed]",
      "text/plain": [
       "<Figure size 432x288 with 1 Axes>"
      ]
     },
     "metadata": {
      "needs_background": "light"
     },
     "output_type": "display_data"
    },
    {
     "name": "stdout",
     "output_type": "stream",
     "text": [
      "Wall time: 7.71 s\n"
     ]
    }
   ],
   "source": [
    "%%time\n",
    "\n",
    "best_model_forest = None\n",
    "best_f1_forest = 0\n",
    "best_est = 0\n",
    "best_depth = 0\n",
    "\n",
    "for est in range(10, 51, 5): # меняем количество деревьев\n",
    "    for depth in range (1, 11): # меняем максимальную глубину деревьев\n",
    "        model = RandomForestClassifier(random_state=RANDOM_STATE, n_estimators=est, max_depth=depth)\n",
    "        model.fit(features_train_down, target_train_down) # обучаем модель на обучающей выборке\n",
    "        predictions_valid = model.predict(features_valid_median_na) # получим предсказания модели на валидационной выборке\n",
    "        f1 = f1_score(target_valid_median_na, predictions_valid) # посчитаем качество модели на валидационной выборке\n",
    "        \n",
    "        if f1 > best_f1_forest:\n",
    "            best_model_forest = model\n",
    "            best_est = est\n",
    "            best_depth = depth\n",
    "            best_f1_forest = f1\n",
    "            probabilities_valid = model.predict_proba(features_valid_median_na)\n",
    "            probabilities_one_valid_down = probabilities_valid[:, 1]\n",
    "            auc_roc = roc_auc_score(target_valid_median_na, probabilities_one_valid_down)\n",
    "        \n",
    "print(\"Downsampling\",\n",
    "      \"\\nF1-score лучшей модели решающего леса:\", best_f1_forest.round(3),\n",
    "      \"\\nAUC_ROC лучшей модели решающего леса:\", auc_roc.round(3),\n",
    "      \"\\nМаксимальная глубина:\", best_depth,\n",
    "      \"\\nКоличество деревьев:\", best_est,)\n",
    "roc_plot(target_valid_median_na, probabilities_one_valid_down)"
   ]
  },
  {
   "cell_type": "markdown",
   "metadata": {},
   "source": [
    "Максимальное значение F1-меры (0.647) было получено при методе балансирования классов *Upsampling*. Показатель AUC-ROC при всех методах борьбы с дисбалансом классов составляет 0.865 - 0.875."
   ]
  },
  {
   "cell_type": "markdown",
   "metadata": {},
   "source": [
    "### Логистическая регрессия\n",
    "\n",
    "Проверим, как с поставленной задачей справится модель логистической регрессии.\n",
    "\n",
    "**Логистическая регрессия и взвешивание классов**"
   ]
  },
  {
   "cell_type": "code",
   "execution_count": 42,
   "metadata": {},
   "outputs": [
    {
     "name": "stdout",
     "output_type": "stream",
     "text": [
      "Взвешивание классов \n",
      "F1-score модели логистической регрессии: 0.529 \n",
      "AUC_ROC модели логистической регрессии: 0.794\n"
     ]
    },
    {
     "data": {
      "image/png": "[encoded data removed]",
      "text/plain": [
       "<Figure size 432x288 with 1 Axes>"
      ]
     },
     "metadata": {
      "needs_background": "light"
     },
     "output_type": "display_data"
    }
   ],
   "source": [
    "model = LogisticRegression(random_state=RANDOM_STATE, solver='liblinear', class_weight='balanced')\n",
    "\n",
    "\n",
    "model.fit(features_train_median_na, target_train_median_na) # обучаем модель на обучающей выборке\n",
    "predictions_valid = model.predict(features_valid_median_na) # получим предсказания модели на валидационной выборке\n",
    "f1 = f1_score(target_valid_median_na, predictions_valid) # посчитаем качество модели на валидационной выборке\n",
    "probabilities_valid = model.predict_proba(features_valid_median_na)\n",
    "probabilities_one_valid_weight = probabilities_valid[:, 1]\n",
    "auc_roc = roc_auc_score(target_valid_median_na, probabilities_one_valid_weight)\n",
    "\n",
    "print(\"Взвешивание классов\",\n",
    "      \"\\nF1-score модели логистической регрессии:\", f1.round(3),\n",
    "      \"\\nAUC_ROC модели логистической регрессии:\", auc_roc.round(3))\n",
    "roc_plot(target_valid_median_na, probabilities_one_valid_weight)"
   ]
  },
  {
   "cell_type": "markdown",
   "metadata": {},
   "source": [
    "**Логистическая регрессия и Upsampling**"
   ]
  },
  {
   "cell_type": "code",
   "execution_count": 43,
   "metadata": {},
   "outputs": [
    {
     "name": "stdout",
     "output_type": "stream",
     "text": [
      "Upsampling \n",
      "F1-score модели логистической регрессии: 0.525 \n",
      "AUC_ROC модели логистической регрессии: 0.794\n"
     ]
    },
    {
     "data": {
      "image/png": "[encoded data removed]",
      "text/plain": [
       "<Figure size 432x288 with 1 Axes>"
      ]
     },
     "metadata": {
      "needs_background": "light"
     },
     "output_type": "display_data"
    }
   ],
   "source": [
    "model = LogisticRegression(random_state=RANDOM_STATE, solver='liblinear')\n",
    "\n",
    "\n",
    "model.fit(features_train_up, target_train_up) # обучаем модель на обучающей выборке\n",
    "predictions_valid = model.predict(features_valid_median_na) # получим предсказания модели на валидационной выборке\n",
    "f1 = f1_score(target_valid_median_na, predictions_valid) # посчитаем качество модели на валидационной выборке\n",
    "probabilities_valid = model.predict_proba(features_valid_median_na)\n",
    "probabilities_one_valid_up = probabilities_valid[:, 1]\n",
    "auc_roc = roc_auc_score(target_valid_median_na, probabilities_one_valid_up)\n",
    "\n",
    "print(\"Upsampling\",\n",
    "      \"\\nF1-score модели логистической регрессии:\", f1.round(3),\n",
    "      \"\\nAUC_ROC модели логистической регрессии:\", auc_roc.round(3))\n",
    "roc_plot(target_valid_median_na, probabilities_one_valid_up)"
   ]
  },
  {
   "cell_type": "markdown",
   "metadata": {},
   "source": [
    "**Логистическая регрессия и Downsampling**"
   ]
  },
  {
   "cell_type": "code",
   "execution_count": 44,
   "metadata": {},
   "outputs": [
    {
     "name": "stdout",
     "output_type": "stream",
     "text": [
      "Downsampling \n",
      "F1-score модели логистической регрессии: 0.527 \n",
      "AUC_ROC модели логистической регрессии: 0.793\n"
     ]
    },
    {
     "data": {
      "image/png": "[encoded data removed]",
      "text/plain": [
       "<Figure size 432x288 with 1 Axes>"
      ]
     },
     "metadata": {
      "needs_background": "light"
     },
     "output_type": "display_data"
    }
   ],
   "source": [
    "model = LogisticRegression(random_state=RANDOM_STATE, solver='liblinear')\n",
    "\n",
    "\n",
    "model.fit(features_train_down, target_train_down) # обучаем модель на обучающей выборке\n",
    "predictions_valid = model.predict(features_valid_median_na) # получим предсказания модели на валидационной выборке\n",
    "f1 = f1_score(target_valid_median_na, predictions_valid) # посчитаем качество модели на валидационной выборке\n",
    "probabilities_valid = model.predict_proba(features_valid_median_na)\n",
    "probabilities_one_valid_down = probabilities_valid[:, 1]\n",
    "auc_roc = roc_auc_score(target_valid_median_na, probabilities_one_valid_down)\n",
    "\n",
    "print(\"Downsampling\",\n",
    "      \"\\nF1-score модели логистической регрессии:\", f1.round(3),\n",
    "      \"\\nAUC_ROC модели логистической регрессии:\", auc_roc.round(3))\n",
    "roc_plot(target_valid_median_na, probabilities_one_valid_down)"
   ]
  },
  {
   "cell_type": "markdown",
   "metadata": {},
   "source": [
    "ДЛя трёх выборок показатели F1 и AUC_ROC практически одинаковые, однако максимальное значение F1-меры (0.506) удалось получить при методе балансирования классов через параметр `class_weight='balanced'`."
   ]
  },
  {
   "cell_type": "markdown",
   "metadata": {},
   "source": [
    "**Вывод 3:**\n",
    "В результате исследования методов борьбы с дисбалансом классов были обнаружены следующие закономерности:\n",
    "* в случае решающего леса и решающего дерева наилучшее качество обучения достигается при применении метода *Upsampling*.\n",
    "* наилучшее качество обучения предоставляет модель решающего леса с 30 деревьями и максимальной глубиной, равной 10 (F1-score =  0.651, AUC_ROC = 0.866)\n"
   ]
  },
  {
   "cell_type": "markdown",
   "metadata": {},
   "source": [
    "\n",
    "\n",
    "| **Decision Tree**  | **class_weight='balanced'**  | **Upsampling** | **Downsampling** |\n",
    "|:-----------------: |:----------------------------:| :-------------:|:----------------:|\n",
    "| **F1 - score**     | 0.576                        | 0.576          | 0.598            |\n",
    "| **AUC-ROC**        | 0.823                        | 0.823          | 0.853            |\n",
    "| **Max Depth**      | 6                            | 6              | 6                |\n",
    "\n",
    "\n",
    "| **Random Forest**  | **class_weight='balanced'**  | **Upsampling** | **Downsampling** |\n",
    "|:-----------------: |:----------------------------:| :-------------:|:----------------:|\n",
    "| **F1 - score**     | 0.65                         | **0.651**      | 0.632            |\n",
    "| **AUC-ROC**        | 0.87                         | **0.866**      | 0.867            |\n",
    "| **Max Depth**      | 10                           | **10**         | 8                |\n",
    "| **Estimators**     | 30                           | **30**         | 45               |\n",
    "\n",
    "\n",
    "| **Logistic Regression**  | **class_weight='balanced'**  | **Upsampling** | **Downsampling** |\n",
    "|:-----------------------: |:----------------------------:| :-------------:|:----------------:|\n",
    "| **F1 - score**           | 0.529                        | 0.525          | 0.527            |\n",
    "| **AUC-ROC**              | 0.794                        | 0.794          | 0.793            |\n",
    "\n",
    "\n"
   ]
  },
  {
   "cell_type": "markdown",
   "metadata": {},
   "source": [
    "## Тестирование модели"
   ]
  },
  {
   "cell_type": "markdown",
   "metadata": {},
   "source": [
    "Проверим лучшую модель решающего дерева на тестовой выборке.\n",
    "Предварительно объединим обучающую и валидационную выборки и заново обучим каждую модель на объединённой выборке."
   ]
  },
  {
   "cell_type": "code",
   "execution_count": 45,
   "metadata": {},
   "outputs": [
    {
     "name": "stdout",
     "output_type": "stream",
     "text": [
      "(8000, 11)\n",
      "(8000,)\n"
     ]
    }
   ],
   "source": [
    "features_train_median_na = features_train_median_na.append(features_valid_median_na)\n",
    "target_train_median_na = target_train_median_na.append(target_valid_median_na)\n",
    "\n",
    "print(features_train_median_na.shape)\n",
    "print(target_train_median_na.shape)"
   ]
  },
  {
   "cell_type": "markdown",
   "metadata": {},
   "source": [
    "Применим к объединённой выборке метод upsampling:"
   ]
  },
  {
   "cell_type": "code",
   "execution_count": 46,
   "metadata": {},
   "outputs": [
    {
     "data": {
      "text/plain": [
       "((12890, 11),\n",
       " (12890,),\n",
       " 1    0.505818\n",
       " 0    0.494182\n",
       " Name: Exited, dtype: float64)"
      ]
     },
     "execution_count": 46,
     "metadata": {},
     "output_type": "execute_result"
    }
   ],
   "source": [
    "features_train_up, target_train_up = upsample(features_train_median_na,\n",
    "                                              target_train_median_na,\n",
    "                                              repeat)\n",
    "# выведем на экран размеры полученных выборок и число объектов каждого класса\n",
    "features_train_up.shape, target_train_up.shape,  target_train_up.value_counts(normalize=True)"
   ]
  },
  {
   "cell_type": "code",
   "execution_count": 47,
   "metadata": {},
   "outputs": [
    {
     "name": "stdout",
     "output_type": "stream",
     "text": [
      "Модель решающего леса с 50 деревьями и максимальной глубиной 10, обученная на выборке, сбалансированной методом Upsampling \n",
      "F1-score: 0.611 \n",
      "AUC_ROC: 0.859 \n",
      "Accuracy: 0.824\n"
     ]
    },
    {
     "data": {
      "image/png": "[encoded data removed]",
      "text/plain": [
       "<Figure size 432x288 with 1 Axes>"
      ]
     },
     "metadata": {
      "needs_background": "light"
     },
     "output_type": "display_data"
    }
   ],
   "source": [
    "model = RandomForestClassifier(random_state=RANDOM_STATE, n_estimators=50, max_depth=10)\n",
    "model.fit(features_train_up, target_train_up) # обучаем модель на обучающей выборке\n",
    "\n",
    "predictions_test = model.predict(features_test_median_na) # получим предсказания модели на валидационной выборке\n",
    "f1 = f1_score(target_test_median_na, predictions_test) # посчитаем качество модели на валидационной выборке\n",
    "\n",
    "probabilities_test = model.predict_proba(features_test_median_na)\n",
    "probabilities_one_test_up = probabilities_test[:, 1]\n",
    "auc_roc = roc_auc_score(target_test_median_na, probabilities_one_test_up)\n",
    "accuracy_test = accuracy_score(target_test_median_na, predictions_test)\n",
    "        \n",
    "print(\"Модель решающего леса с 50 деревьями и максимальной глубиной 10, обученная на выборке, сбалансированной методом Upsampling\",\n",
    "      \"\\nF1-score:\", f1.round(3),\n",
    "      \"\\nAUC_ROC:\", auc_roc.round(3),\n",
    "      \"\\nAccuracy:\", accuracy_test.round(3))\n",
    "roc_plot(target_valid_median_na, probabilities_one_valid_up)"
   ]
  },
  {
   "cell_type": "markdown",
   "metadata": {},
   "source": [
    "## Выводы"
   ]
  },
  {
   "cell_type": "markdown",
   "metadata": {},
   "source": [
    "Целью проекта является построение для компании \"Бета-Банк\" модели классификации с максимально большим значением F1-меры, позволяющей предсказать уход клиентов из банка.  \n",
    "В ходе выполнения задания проекта были произведены обзор  и предобработка данных компании, в результате которых:\n",
    "* произведена операция прямого кодирования категориальных признаков, \n",
    "* в столбце *Tenure* был изменён тип данных, \n",
    "* дубликатов и аномалий обнаружено не было, \n",
    "* пропуски в столбце *Tenure* были обработаны тремя способами (уделение строк, содержащих пропуски, замена пропусков нулями и замена пропусков медианным значением признака),\n",
    "* значения признаков были отмасштабированы\n",
    "* данные были разделены на обучающую, валидационную и тестовую выборки в соотношении 3:1:1.\n",
    "\n",
    "Далее чего были исследованы баланс классов: на трёх полученных в результате обработки пропусков выборках практически одинаковое соотношение классов: 79.6% объектов принадлежат отрицательному классу, 20.4% - положительному. Без учета дисбаланса классов были исследованы модели решающего дерева, решающего леса и логистической регресси: максимальное значение метрики F1 (0.62) было получено при обучении модели решающего леса на выборке с заменой пропусков на медианные значения.\n",
    "\n",
    "\n",
    "Были рассмотрены три способа борьбы с дисбалансом классов (взвешивание классов, upsampling, downsampling), в результате чего было обнаружено, что:\n",
    "* в случае решающего леса и решающего дерева наилучшее качество обучения достигается при применении метода *Upsampling*.\n",
    "* наилучшее качество обучения предоставляет модель решающего леса с 50 деревьями и максимальной глубиной, равной 10 (F1-score =  0.647, AUC_ROC = 0.875)\n",
    "\n",
    "При проверке лучшей модели решающего леса на тестовой выборке было получено значение F1-меры, равное 0.6, а также значение AUC-ROC = 0.862. Это говорит о том, что наша модель решающего леса вполне разумно предсказывает уход клиента из банка (то есть лучше, чем модель случайного классификатора)"
   ]
  },
  {
   "cell_type": "code",
   "execution_count": null,
   "metadata": {},
   "outputs": [],
   "source": []
  }
 ],
 "metadata": {
  "kernelspec": {
   "display_name": "Python 3",
   "language": "python",
   "name": "python3"
  },
  "language_info": {
   "codemirror_mode": {
    "name": "ipython",
    "version": 3
   },
   "file_extension": ".py",
   "mimetype": "text/x-python",
   "name": "python",
   "nbconvert_exporter": "python",
   "pygments_lexer": "ipython3",
   "version": "3.6.9"
  },
  "toc": {
   "base_numbering": 1,
   "nav_menu": {},
   "number_sections": true,
   "sideBar": true,
   "skip_h1_title": true,
   "title_cell": "Содержание",
   "title_sidebar": "Contents",
   "toc_cell": true,
   "toc_position": {
    "height": "calc(100% - 180px)",
    "left": "10px",
    "top": "150px",
    "width": "190.797px"
   },
   "toc_section_display": true,
   "toc_window_display": true
  }
 },
 "nbformat": 4,
 "nbformat_minor": 2
}
