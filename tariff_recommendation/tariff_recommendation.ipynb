{
 "cells": [
  {
   "cell_type": "markdown",
   "metadata": {},
   "source": [
    "# Классификация клиентов телеком компании"
   ]
  },
  {
   "cell_type": "markdown",
   "metadata": {},
   "source": [
    "Оператор мобильной связи выяснил: многие клиенты пользуются архивными тарифами. Они хотят построить систему, способную проанализировать поведение клиентов и предложить пользователям новый тариф: «Смарт» или «Ультра».\n",
    "\n",
    "В нашем распоряжении уже предобработанные данные о поведении клиентов, которые уже перешли на эти тарифы. Нужно построить модель для задачи классификации, которая выберет подходящий тариф.\n",
    "\n",
    "**Цель проекта:**  \n",
    "Построить модель классификации с максимально большим значением *accuracy* (необходимо довести долю правильных ответов по крайней мере до 0.75 и проверить *accuracy* на тестовой выборке).\n",
    "\n",
    "\n",
    "**Ход исследования:**\n",
    " * Шаг 1: Изучение данных из файла\n",
    " * Шаг 2: Разбиение данных на выборки\n",
    " * Шаг 3: Исследование моделей\n",
    " * Шаг 4: Проверка моделей на тестовой выборке\n",
    " * Шаг 5: Проверка моделей на адекватность\n",
    " * Шаг 6: Выводы"
   ]
  },
  {
   "cell_type": "code",
   "execution_count": 1,
   "metadata": {},
   "outputs": [],
   "source": [
    "# импорт необходимых библиотек\n",
    "import pandas as pd\n",
    "\n",
    "from sklearn.model_selection import train_test_split\n",
    "\n",
    "from sklearn.tree import DecisionTreeClassifier\n",
    "from sklearn.ensemble import RandomForestClassifier\n",
    "from sklearn.linear_model import LogisticRegression\n",
    "from sklearn.dummy import DummyClassifier\n",
    "\n",
    "from sklearn.metrics import accuracy_score"
   ]
  },
  {
   "cell_type": "markdown",
   "metadata": {},
   "source": [
    "## Изучение данных из файла"
   ]
  },
  {
   "cell_type": "markdown",
   "metadata": {},
   "source": [
    "Прочитаем файл и сохраним его в переменной `df`"
   ]
  },
  {
   "cell_type": "markdown",
   "metadata": {},
   "source": [
    "Для ознакомления с данными выведем на экран информацию о таблице и первые 10 строк таблицы:"
   ]
  },
  {
   "cell_type": "code",
   "execution_count": 3,
   "metadata": {},
   "outputs": [
    {
     "name": "stdout",
     "output_type": "stream",
     "text": [
      "<class 'pandas.core.frame.DataFrame'>\n",
      "RangeIndex: 3214 entries, 0 to 3213\n",
      "Data columns (total 5 columns):\n",
      " #   Column    Non-Null Count  Dtype  \n",
      "---  ------    --------------  -----  \n",
      " 0   calls     3214 non-null   float64\n",
      " 1   minutes   3214 non-null   float64\n",
      " 2   messages  3214 non-null   float64\n",
      " 3   mb_used   3214 non-null   float64\n",
      " 4   is_ultra  3214 non-null   int64  \n",
      "dtypes: float64(4), int64(1)\n",
      "memory usage: 125.7 KB\n",
      "None\n"
     ]
    },
    {
     "data": {
      "text/html": [
       "<div>\n",
       "<style scoped>\n",
       "    .dataframe tbody tr th:only-of-type {\n",
       "        vertical-align: middle;\n",
       "    }\n",
       "\n",
       "    .dataframe tbody tr th {\n",
       "        vertical-align: top;\n",
       "    }\n",
       "\n",
       "    .dataframe thead th {\n",
       "        text-align: right;\n",
       "    }\n",
       "</style>\n",
       "<table border=\"1\" class=\"dataframe\">\n",
       "  <thead>\n",
       "    <tr style=\"text-align: right;\">\n",
       "      <th></th>\n",
       "      <th>calls</th>\n",
       "      <th>minutes</th>\n",
       "      <th>messages</th>\n",
       "      <th>mb_used</th>\n",
       "      <th>is_ultra</th>\n",
       "    </tr>\n",
       "  </thead>\n",
       "  <tbody>\n",
       "    <tr>\n",
       "      <th>0</th>\n",
       "      <td>40.0</td>\n",
       "      <td>311.90</td>\n",
       "      <td>83.0</td>\n",
       "      <td>19915.42</td>\n",
       "      <td>0</td>\n",
       "    </tr>\n",
       "    <tr>\n",
       "      <th>1</th>\n",
       "      <td>85.0</td>\n",
       "      <td>516.75</td>\n",
       "      <td>56.0</td>\n",
       "      <td>22696.96</td>\n",
       "      <td>0</td>\n",
       "    </tr>\n",
       "    <tr>\n",
       "      <th>2</th>\n",
       "      <td>77.0</td>\n",
       "      <td>467.66</td>\n",
       "      <td>86.0</td>\n",
       "      <td>21060.45</td>\n",
       "      <td>0</td>\n",
       "    </tr>\n",
       "    <tr>\n",
       "      <th>3</th>\n",
       "      <td>106.0</td>\n",
       "      <td>745.53</td>\n",
       "      <td>81.0</td>\n",
       "      <td>8437.39</td>\n",
       "      <td>1</td>\n",
       "    </tr>\n",
       "    <tr>\n",
       "      <th>4</th>\n",
       "      <td>66.0</td>\n",
       "      <td>418.74</td>\n",
       "      <td>1.0</td>\n",
       "      <td>14502.75</td>\n",
       "      <td>0</td>\n",
       "    </tr>\n",
       "    <tr>\n",
       "      <th>5</th>\n",
       "      <td>58.0</td>\n",
       "      <td>344.56</td>\n",
       "      <td>21.0</td>\n",
       "      <td>15823.37</td>\n",
       "      <td>0</td>\n",
       "    </tr>\n",
       "    <tr>\n",
       "      <th>6</th>\n",
       "      <td>57.0</td>\n",
       "      <td>431.64</td>\n",
       "      <td>20.0</td>\n",
       "      <td>3738.90</td>\n",
       "      <td>1</td>\n",
       "    </tr>\n",
       "    <tr>\n",
       "      <th>7</th>\n",
       "      <td>15.0</td>\n",
       "      <td>132.40</td>\n",
       "      <td>6.0</td>\n",
       "      <td>21911.60</td>\n",
       "      <td>0</td>\n",
       "    </tr>\n",
       "    <tr>\n",
       "      <th>8</th>\n",
       "      <td>7.0</td>\n",
       "      <td>43.39</td>\n",
       "      <td>3.0</td>\n",
       "      <td>2538.67</td>\n",
       "      <td>1</td>\n",
       "    </tr>\n",
       "    <tr>\n",
       "      <th>9</th>\n",
       "      <td>90.0</td>\n",
       "      <td>665.41</td>\n",
       "      <td>38.0</td>\n",
       "      <td>17358.61</td>\n",
       "      <td>0</td>\n",
       "    </tr>\n",
       "  </tbody>\n",
       "</table>\n",
       "</div>"
      ],
      "text/plain": [
       "   calls  minutes  messages   mb_used  is_ultra\n",
       "0   40.0   311.90      83.0  19915.42         0\n",
       "1   85.0   516.75      56.0  22696.96         0\n",
       "2   77.0   467.66      86.0  21060.45         0\n",
       "3  106.0   745.53      81.0   8437.39         1\n",
       "4   66.0   418.74       1.0  14502.75         0\n",
       "5   58.0   344.56      21.0  15823.37         0\n",
       "6   57.0   431.64      20.0   3738.90         1\n",
       "7   15.0   132.40       6.0  21911.60         0\n",
       "8    7.0    43.39       3.0   2538.67         1\n",
       "9   90.0   665.41      38.0  17358.61         0"
      ]
     },
     "execution_count": 3,
     "metadata": {},
     "output_type": "execute_result"
    }
   ],
   "source": [
    "print(df.info())\n",
    "df.head(10)"
   ]
  },
  {
   "cell_type": "markdown",
   "metadata": {},
   "source": [
    "Каждый из 3214 объектов в наборе данных — это информация о поведении одного пользователя за месяц.  \n",
    "Согласно документации к данным:\n",
    "* `сalls` — количество звонков,\n",
    "* `minutes` — суммарная длительность звонков в минутах,\n",
    "* `messages` — количество sms-сообщений,\n",
    "* `mb_used` — израсходованный интернет-трафик в Мб,\n",
    "* `is_ultra` — каким тарифом пользовался в течение месяца («Ультра» — 1, «Смарт» — 0).\n",
    "\n",
    "Данные предварительно обработаны и не содержат пропусков. Тем не менее, кратко проверим таблицу на наличие дубликатов, а также выведем минимальные и максимальные значения каждого столбца, чтобы убедиться в отсутствии аномалий - отрицательных значений."
   ]
  },
  {
   "cell_type": "code",
   "execution_count": 4,
   "metadata": {},
   "outputs": [
    {
     "name": "stdout",
     "output_type": "stream",
     "text": [
      "Duplicates: 0 \n",
      "\n",
      "calls \n",
      "Min: 0 \n",
      "Max: 244 \n",
      "\n",
      "minutes \n",
      "Min: 0 \n",
      "Max: 1632 \n",
      "\n",
      "messages \n",
      "Min: 0 \n",
      "Max: 224 \n",
      "\n",
      "mb_used \n",
      "Min: 0 \n",
      "Max: 49745 \n",
      "\n",
      "is_ultra \n",
      "Min: 0 \n",
      "Max: 1 \n",
      "\n",
      "[0 1]\n"
     ]
    }
   ],
   "source": [
    "# подсчёт явных дубликатов\n",
    "print('Duplicates:', df.duplicated().sum(), '\\n')\n",
    "# вывод минимума и максимума столбца\n",
    "for column in df.columns:\n",
    "    print(column, '\\nMin:', int(df[column].min()), '\\nMax:', int(df[column].max()), '\\n')\n",
    "print(df['is_ultra'].unique())"
   ]
  },
  {
   "cell_type": "markdown",
   "metadata": {},
   "source": [
    "Итак, в нашем распоряжении 3214 строк, содержащих информацию о количестве израсходованных минут, сообщений и Мб интернет-трафика для каждого пользователя в месяц. Данные предварительно обработаны и не содержат пропусков, дубликатов и аномалий.\n",
    "\n",
    "С помощью предоставленных данных необходимо посторить модель классификации, позволяющую на основании количества использованных услуг предложить клиенту оптимальный тариф."
   ]
  },
  {
   "cell_type": "markdown",
   "metadata": {},
   "source": [
    "## Разбиение данных на выборки"
   ]
  },
  {
   "cell_type": "markdown",
   "metadata": {},
   "source": [
    "Извлечем из таблицы признаки и целевой признак:"
   ]
  },
  {
   "cell_type": "code",
   "execution_count": 5,
   "metadata": {},
   "outputs": [
    {
     "name": "stdout",
     "output_type": "stream",
     "text": [
      "(3214, 4)\n"
     ]
    },
    {
     "data": {
      "text/plain": [
       "(3214,)"
      ]
     },
     "execution_count": 5,
     "metadata": {},
     "output_type": "execute_result"
    }
   ],
   "source": [
    "features = df.drop('is_ultra',  axis=1) # извлекаем признаки\n",
    "target = df['is_ultra']  # извлекаем целевой признак\n",
    "\n",
    "print(features.shape)\n",
    "target.shape"
   ]
  },
  {
   "cell_type": "markdown",
   "metadata": {},
   "source": [
    "Извлечение целевого признака произошло успешно, далее данные необходимо разбить на три части: обучающую, валидационную и тестовую. Размеры тестового и валидационного наборов обычно равны и исходные данные разбивают в соотношении 3:1:1."
   ]
  },
  {
   "cell_type": "code",
   "execution_count": 6,
   "metadata": {},
   "outputs": [],
   "source": [
    "# разделим выборку на две части: обучающую и тестовую\n",
    "features_train, features_test, target_train, target_test = train_test_split(\n",
    "    features, target, test_size=.4, random_state=0)\n",
    "# разделим тестовую часть пополам - выделим валидационную часть\n",
    "features_valid, features_test, target_valid, target_test = train_test_split(\n",
    "    features_test, target_test, test_size=.5, random_state=0)"
   ]
  },
  {
   "cell_type": "markdown",
   "metadata": {},
   "source": [
    "Проверим, что выборки разделились корректно: размеры тестовой и валидационной выборки должны быть равны."
   ]
  },
  {
   "cell_type": "code",
   "execution_count": 7,
   "metadata": {},
   "outputs": [
    {
     "name": "stdout",
     "output_type": "stream",
     "text": [
      "(1928, 4)\n",
      "(643, 4)\n",
      "(643, 4)\n"
     ]
    }
   ],
   "source": [
    "for matrix in [features_train, features_valid, features_test]:\n",
    "    print(matrix.shape)"
   ]
  },
  {
   "cell_type": "code",
   "execution_count": 8,
   "metadata": {},
   "outputs": [
    {
     "name": "stdout",
     "output_type": "stream",
     "text": [
      "(1928,)\n",
      "(643,)\n",
      "(643,)\n"
     ]
    }
   ],
   "source": [
    "for vector in [target_train, target_valid, target_test]:\n",
    "    print(vector.shape)"
   ]
  },
  {
   "cell_type": "markdown",
   "metadata": {},
   "source": [
    "Итак, разделение выборок на обучающую, валидационную и тестовую произошло успешно, можно приступать к обучению моделей."
   ]
  },
  {
   "cell_type": "markdown",
   "metadata": {},
   "source": [
    "## Исследование моделей"
   ]
  },
  {
   "cell_type": "markdown",
   "metadata": {},
   "source": [
    "Применим к подготовленным данным три различные модели обучения для решения задачи классификации: решающее дерево, решающий лес и логистическую регрессию. Для решающего леса и решающего дерева рассмотрим несколько значений гиперпараметров и выберем наиболее оптимальные из них.\n",
    "\n",
    "### Решающее дерево\n",
    "\n",
    "Рассмотрим модель решающего дерева при разных значениях глубины дерева (от 1 до 10) и выберем глубину, позволяющую достичь максимального значения доли правильных предсказаний модели."
   ]
  },
  {
   "cell_type": "code",
   "execution_count": 9,
   "metadata": {},
   "outputs": [
    {
     "name": "stdout",
     "output_type": "stream",
     "text": [
      "Accuracy лучшей модели решающего дерева: 0.812 \n",
      "Максимальная глубина: 10\n"
     ]
    }
   ],
   "source": [
    "best_model_tree = None\n",
    "best_accuracy_tree = 0\n",
    "\n",
    "for depth in range(1, 11):\n",
    "    model = DecisionTreeClassifier(random_state=0, max_depth=depth) # обучаем модель с заданной глубиной дерева\n",
    "    model.fit(features_train, target_train) # обучаем модель на обучающей выборке\n",
    "    predictions_valid = model.predict(features_valid) # получим предсказания модели на валидационной выборке\n",
    "    accuracy = accuracy_score(target_valid, predictions_valid) # посчитаем качество модели на валидационной выборке\n",
    "    \n",
    "    if accuracy > best_accuracy_tree:\n",
    "        best_model_tree = model\n",
    "        best_accuracy_tree = accuracy\n",
    "        \n",
    "print(\"Accuracy лучшей модели решающего дерева:\", best_accuracy_tree.round(3), \"\\nМаксимальная глубина:\", depth)"
   ]
  },
  {
   "cell_type": "markdown",
   "metadata": {},
   "source": [
    "С помощью модели решающего дерева с глубиной 10 удалось достичь значения accuracy, равного 81%. Таким образом, выбранная модель решающего дерева не переобучается и выдаёт приемлемое значение доли правильных ответов.  "
   ]
  },
  {
   "cell_type": "markdown",
   "metadata": {},
   "source": [
    "### Решающий лес\n",
    "\n",
    "Рассмотрим следующую модель - решающий лес. Будем менять количество деревьев от 10 до 50 с шагом в 5 деревьев, а также максимальную глубину этих деревьев, чтобы определить оптимальные гиперпараметры для получения наибольшего значения точности предсказаний модели."
   ]
  },
  {
   "cell_type": "code",
   "execution_count": 10,
   "metadata": {},
   "outputs": [
    {
     "name": "stdout",
     "output_type": "stream",
     "text": [
      "Accuracy наилучшей модели решающего леса на валидационной выборке: 0.821 \n",
      "Количество деревьев: 35 \n",
      "Максимальная глубина: 10\n"
     ]
    }
   ],
   "source": [
    "best_model_forest = None\n",
    "best_accuracy_forest = 0\n",
    "best_est = 0\n",
    "best_depth = 0\n",
    "\n",
    "for est in range(10, 51, 5): # меняем количество деревьев\n",
    "    for depth in range (1, 11): # меняем максимальную глубину деревьев\n",
    "        model = RandomForestClassifier(random_state=0, n_estimators=est, max_depth=depth)\n",
    "        model.fit(features_train, target_train) # обучаем модель на тренировочной выборке\n",
    "        predictions_valid = model.predict(features_valid) # получаем предсказания модели на валидационной выборке\n",
    "        accuracy = accuracy_score(target_valid, predictions_valid) # считаем значение accuracy на валидационной выборке\n",
    "        \n",
    "        if accuracy > best_accuracy_forest:\n",
    "            best_model_forest = model\n",
    "            best_accuracy_forest = accuracy\n",
    "            best_est = est\n",
    "            best_depth = depth\n",
    "\n",
    "print(\"Accuracy наилучшей модели решающего леса на валидационной выборке:\", best_accuracy_forest.round(3), \n",
    "      \"\\nКоличество деревьев:\", best_est, \"\\nМаксимальная глубина:\", depth)"
   ]
  },
  {
   "cell_type": "markdown",
   "metadata": {},
   "source": [
    "При количестве деревьев, равному 35, и при максимальной глубине деревьев, равной 10, модель решающего леса достигает точности 82% на валидационной выборке. Аналогично предыдущему случаю, модель не переобучается и достаточно точно предсказывает правильные ответы."
   ]
  },
  {
   "cell_type": "markdown",
   "metadata": {},
   "source": [
    "### Логистическая регрессия\n",
    "\n",
    "Проверим, как с поставленной задачей справится модель логистической регрессии."
   ]
  },
  {
   "cell_type": "code",
   "execution_count": 11,
   "metadata": {},
   "outputs": [
    {
     "name": "stdout",
     "output_type": "stream",
     "text": [
      "Accuracy модели логистической регрессии на валидационной выборке: 0.743\n"
     ]
    }
   ],
   "source": [
    "model_log_reg = LogisticRegression(random_state=0, solver='lbfgs', max_iter=100) # задаем параметры модели\n",
    "model_log_reg.fit(features_train, target_train) # обучаем на тренировочной выборке\n",
    "\n",
    "accuracy_log_reg = model_log_reg.score(features_valid, target_valid) # получим значение точности на валидационной выборке\n",
    "\n",
    "print(\"Accuracy модели логистической регрессии на валидационной выборке:\", accuracy_log_reg.round(3))"
   ]
  },
  {
   "cell_type": "markdown",
   "metadata": {},
   "source": [
    "Модель логистической регрессии справилась с предсказаниями на валидационной выборке хуже предыдущих моделей: точность предсказаний составила 74%."
   ]
  },
  {
   "cell_type": "markdown",
   "metadata": {},
   "source": [
    "**Вывод** \n",
    "\n",
    "Максимальное значение точности предсказаний на валидационной выборке (82%) удалось получить при применении модели решающего леса с 35 деревьями и максимальной глубиной деревьев, равной 10.\n",
    "Модель решающего дерева с глубиной 10 позволяет получить точность, равную 81%, а модель логистической регрессии на предоставленных данных справляется хуже: точность на валидацонной выборке равна 74%."
   ]
  },
  {
   "cell_type": "markdown",
   "metadata": {},
   "source": [
    "## Проверка модели на тестовой выборке"
   ]
  },
  {
   "cell_type": "markdown",
   "metadata": {},
   "source": [
    "Проверим модели решающего дерева, решающего леса и логистической регрессии с оптимально подобранными гиперпараметрами на тестовой выборке.  \n",
    "Предварительно объединим обучающую и валидационную выборки и заново обучим каждую модель на объединённой выборке."
   ]
  },
  {
   "cell_type": "code",
   "execution_count": 12,
   "metadata": {},
   "outputs": [
    {
     "name": "stdout",
     "output_type": "stream",
     "text": [
      "(2571, 4)\n",
      "(2571,)\n"
     ]
    }
   ],
   "source": [
    "features_train = features_train.append(features_valid)\n",
    "target_train = target_train.append(target_valid)\n",
    "\n",
    "print(features_train.shape)\n",
    "print(target_train.shape)"
   ]
  },
  {
   "cell_type": "markdown",
   "metadata": {},
   "source": [
    "**Проверка модели решающего дерева**"
   ]
  },
  {
   "cell_type": "code",
   "execution_count": 13,
   "metadata": {},
   "outputs": [
    {
     "name": "stdout",
     "output_type": "stream",
     "text": [
      "Accuracy модели решающего дерева на тестовой выборке: 0.76\n"
     ]
    }
   ],
   "source": [
    "best_model_tree.fit(features_train, target_train)\n",
    "predictions_test_tree = best_model_tree.predict(features_test)\n",
    "accuracy_test_tree = accuracy_score(target_test, predictions_test_tree)\n",
    "print(\"Accuracy модели решающего дерева на тестовой выборке:\", accuracy_test_tree.round(3))"
   ]
  },
  {
   "cell_type": "markdown",
   "metadata": {},
   "source": [
    "**Проверка модели решающего леса**"
   ]
  },
  {
   "cell_type": "code",
   "execution_count": 14,
   "metadata": {},
   "outputs": [
    {
     "name": "stdout",
     "output_type": "stream",
     "text": [
      "Accuracy модели решающего леса на тестовой выборке: 0.773\n"
     ]
    }
   ],
   "source": [
    "best_model_forest.fit(features_train, target_train)\n",
    "predictions_test_forest = best_model_forest.predict(features_test)\n",
    "accuracy_test_forest = accuracy_score(target_test, predictions_test_forest)\n",
    "print(\"Accuracy модели решающего леса на тестовой выборке:\", accuracy_test_forest.round(3))"
   ]
  },
  {
   "cell_type": "markdown",
   "metadata": {},
   "source": [
    "**Проверка модели логистической регрессии**"
   ]
  },
  {
   "cell_type": "code",
   "execution_count": 15,
   "metadata": {},
   "outputs": [
    {
     "name": "stdout",
     "output_type": "stream",
     "text": [
      "Accuracy модели логистической регрессии на тестовой выборке: 0.751\n"
     ]
    }
   ],
   "source": [
    "model_log_reg.fit(features_train, target_train)\n",
    "accuracy_log_reg_test = model_log_reg.score(features_test, target_test)\n",
    "print(\"Accuracy модели логистической регрессии на тестовой выборке:\", accuracy_log_reg_test.round(3))"
   ]
  },
  {
   "cell_type": "markdown",
   "metadata": {},
   "source": [
    "**Вывод**\n",
    "\n",
    "Наилучшие результаты на тестовой выборке получаются при использовании моделей решающего леса (точность более 0.77) и решающего дерева (точность составляет 0.76).  \n",
    "При этом результаты работы модели логистической регрессии на тестовой выборке даже немного лучше, чем на валидационной: значение accuracy превысило 0.75."
   ]
  },
  {
   "cell_type": "markdown",
   "metadata": {},
   "source": [
    "## Проверка моделей на адекватность"
   ]
  },
  {
   "cell_type": "markdown",
   "metadata": {},
   "source": [
    "Сравним работу наилучшей модели решающего леса с максимальным значением accuracy на тестовой выборке с работой наивной модели, которая при любых входных данных возвращает значение преобладающего в обучающей выборке класса."
   ]
  },
  {
   "cell_type": "code",
   "execution_count": 16,
   "metadata": {},
   "outputs": [
    {
     "name": "stdout",
     "output_type": "stream",
     "text": [
      "Accuracy наивной модели: 0.686\n",
      "Accuracy модели решающего леса на тестовой выборке: 0.773\n"
     ]
    }
   ],
   "source": [
    "dummy_clf = DummyClassifier(strategy='most_frequent', random_state=0)\n",
    "dummy_clf.fit(features_train, target_train)\n",
    "\n",
    "print( \"Accuracy наивной модели:\", dummy_clf.score(features_test, target_test).round(3))\n",
    "print(\"Accuracy модели решающего леса на тестовой выборке:\", accuracy_test_forest.round(3))"
   ]
  },
  {
   "cell_type": "markdown",
   "metadata": {},
   "source": [
    "Accuracy модели решающего леса с 35 деревьями и максимальной глубиной деревьев, равной 10, превышает accuracy наивной модели: следовательно, наша модель решающего леса вполне адекватно предсказывает тариф пользователя."
   ]
  },
  {
   "cell_type": "markdown",
   "metadata": {},
   "source": [
    "## Вывод"
   ]
  },
  {
   "cell_type": "markdown",
   "metadata": {},
   "source": [
    "Целью проекта является построение для компании \"Мегалайн\" модели классификации с максимально большим значением accuracy, позволяющей предлагать пользователям компании наиболее подходящий для них тариф (\"Смарт\" или \"Ультра\").  \n",
    "В ходе выполнения задания проекта был произведен обзор данных компании, данные были разделены на обучающую, валидационную и тестовую выборки в соотношении 3:1:1, после чего были исследованы следующие модели при различных значениях гиперпараметров:\n",
    "* модель решающего дерева\n",
    "* модель решающего леса\n",
    "* логистическая регрессия\n",
    "\n",
    "В результате обучения этих моделей при различных гиперпараметрах и их проверке на валидационных выборках было обнаружено, что:\n",
    "* максимальное значение точности предсказаний на валидационной выборке удалось получить при применении модели решающего леса с 35 деревьями и максимальной глубиной деревьев, равной 10. Accuracy данной модели равна 0.82\n",
    "* Модель решающего дерева с глубиной 10 позволяет получить точность, равную 0.81\n",
    "* модель логистической регрессии на валидационной выборке позволила получить точность 0.74\n",
    "\n",
    "При проверке моделей на тестовой выборке наилучший результат получился также при применении модели решающего леса (accuracy = 0.77). Модель решающего дерева не сильно уступает по точности: accuracy = 0.76.И, наконец, модель логистической регресси на тестовой выборке позволяет получить значение accuracy, равное 0.75.\n",
    "\n",
    "Наконец, accuracy лучшей модели решающего леса (с 35 деревьями и максимальной глубиной деревьев, равной 10) превышает accuracy наивной модели (0.77 против 0.69): следовательно, наша модель решающего леса способна предсказывать тариф пользователя вполне разумно."
   ]
  }
 ],
 "metadata": {
  "ExecuteTimeLog": [
   {
    "duration": 1316,
    "start_time": "2022-06-13T06:40:24.483Z"
   },
   {
    "duration": 109,
    "start_time": "2022-06-13T06:40:25.801Z"
   },
   {
    "duration": 36,
    "start_time": "2022-06-13T06:40:25.912Z"
   },
   {
    "duration": 14,
    "start_time": "2022-06-13T06:40:25.950Z"
   },
   {
    "duration": 7,
    "start_time": "2022-06-13T06:40:25.966Z"
   },
   {
    "duration": 10,
    "start_time": "2022-06-13T06:40:25.975Z"
   },
   {
    "duration": 4,
    "start_time": "2022-06-13T06:40:25.987Z"
   },
   {
    "duration": 37,
    "start_time": "2022-06-13T06:40:25.993Z"
   },
   {
    "duration": 68,
    "start_time": "2022-06-13T06:40:26.032Z"
   },
   {
    "duration": 6372,
    "start_time": "2022-06-13T06:40:26.102Z"
   },
   {
    "duration": 58,
    "start_time": "2022-06-13T06:40:32.476Z"
   },
   {
    "duration": 6,
    "start_time": "2022-06-13T06:40:32.536Z"
   },
   {
    "duration": 17,
    "start_time": "2022-06-13T06:40:32.544Z"
   },
   {
    "duration": 110,
    "start_time": "2022-06-13T06:40:32.563Z"
   },
   {
    "duration": 356,
    "start_time": "2022-06-13T06:40:32.675Z"
   },
   {
    "duration": 93,
    "start_time": "2022-06-13T06:40:33.037Z"
   }
  ],
  "kernelspec": {
   "display_name": "Python 3",
   "language": "python",
   "name": "python3"
  },
  "language_info": {
   "codemirror_mode": {
    "name": "ipython",
    "version": 3
   },
   "file_extension": ".py",
   "mimetype": "text/x-python",
   "name": "python",
   "nbconvert_exporter": "python",
   "pygments_lexer": "ipython3",
   "version": "3.6.9"
  },
  "toc": {
   "base_numbering": 1,
   "nav_menu": {},
   "number_sections": true,
   "sideBar": true,
   "skip_h1_title": true,
   "title_cell": "Table of Contents",
   "title_sidebar": "Contents",
   "toc_cell": false,
   "toc_position": {
    "height": "773px",
    "left": "42px",
    "top": "111.125px",
    "width": "384px"
   },
   "toc_section_display": true,
   "toc_window_display": true
  }
 },
 "nbformat": 4,
 "nbformat_minor": 2
}
